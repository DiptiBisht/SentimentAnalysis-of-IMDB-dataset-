{
 "cells": [
  {
   "cell_type": "code",
   "execution_count": 1,
   "id": "360d6b5a",
   "metadata": {},
   "outputs": [
    {
     "name": "stdout",
     "output_type": "stream",
     "text": [
      "Collecting en-core-web-lg==3.4.1\n",
      "  Downloading https://github.com/explosion/spacy-models/releases/download/en_core_web_lg-3.4.1/en_core_web_lg-3.4.1-py3-none-any.whl (587.7 MB)\n",
      "     -------------------------------------- 587.7/587.7 MB 3.9 MB/s eta 0:00:00\n",
      "Requirement already satisfied: spacy<3.5.0,>=3.4.0 in c:\\users\\dipti\\anaconda3\\lib\\site-packages (from en-core-web-lg==3.4.1) (3.4.4)\n",
      "Requirement already satisfied: smart-open<7.0.0,>=5.2.1 in c:\\users\\dipti\\anaconda3\\lib\\site-packages (from spacy<3.5.0,>=3.4.0->en-core-web-lg==3.4.1) (5.2.1)\n",
      "Requirement already satisfied: srsly<3.0.0,>=2.4.3 in c:\\users\\dipti\\anaconda3\\lib\\site-packages (from spacy<3.5.0,>=3.4.0->en-core-web-lg==3.4.1) (2.4.5)\n",
      "Requirement already satisfied: thinc<8.2.0,>=8.1.0 in c:\\users\\dipti\\anaconda3\\lib\\site-packages (from spacy<3.5.0,>=3.4.0->en-core-web-lg==3.4.1) (8.1.7)\n",
      "Requirement already satisfied: spacy-loggers<2.0.0,>=1.0.0 in c:\\users\\dipti\\anaconda3\\lib\\site-packages (from spacy<3.5.0,>=3.4.0->en-core-web-lg==3.4.1) (1.0.4)\n",
      "Requirement already satisfied: wasabi<1.1.0,>=0.9.1 in c:\\users\\dipti\\anaconda3\\lib\\site-packages (from spacy<3.5.0,>=3.4.0->en-core-web-lg==3.4.1) (0.10.1)\n",
      "Requirement already satisfied: cymem<2.1.0,>=2.0.2 in c:\\users\\dipti\\anaconda3\\lib\\site-packages (from spacy<3.5.0,>=3.4.0->en-core-web-lg==3.4.1) (2.0.7)\n",
      "Requirement already satisfied: spacy-legacy<3.1.0,>=3.0.10 in c:\\users\\dipti\\anaconda3\\lib\\site-packages (from spacy<3.5.0,>=3.4.0->en-core-web-lg==3.4.1) (3.0.11)\n",
      "Requirement already satisfied: packaging>=20.0 in c:\\users\\dipti\\anaconda3\\lib\\site-packages (from spacy<3.5.0,>=3.4.0->en-core-web-lg==3.4.1) (23.0)\n",
      "Requirement already satisfied: jinja2 in c:\\users\\dipti\\appdata\\roaming\\python\\python39\\site-packages (from spacy<3.5.0,>=3.4.0->en-core-web-lg==3.4.1) (3.1.2)\n",
      "Requirement already satisfied: numpy>=1.15.0 in c:\\users\\dipti\\anaconda3\\lib\\site-packages (from spacy<3.5.0,>=3.4.0->en-core-web-lg==3.4.1) (1.21.6)\n",
      "Requirement already satisfied: murmurhash<1.1.0,>=0.28.0 in c:\\users\\dipti\\anaconda3\\lib\\site-packages (from spacy<3.5.0,>=3.4.0->en-core-web-lg==3.4.1) (1.0.9)\n",
      "Requirement already satisfied: preshed<3.1.0,>=3.0.2 in c:\\users\\dipti\\anaconda3\\lib\\site-packages (from spacy<3.5.0,>=3.4.0->en-core-web-lg==3.4.1) (3.0.8)\n",
      "Requirement already satisfied: typer<0.8.0,>=0.3.0 in c:\\users\\dipti\\anaconda3\\lib\\site-packages (from spacy<3.5.0,>=3.4.0->en-core-web-lg==3.4.1) (0.7.0)\n",
      "Requirement already satisfied: setuptools in c:\\users\\dipti\\anaconda3\\lib\\site-packages (from spacy<3.5.0,>=3.4.0->en-core-web-lg==3.4.1) (66.1.1)\n",
      "Requirement already satisfied: tqdm<5.0.0,>=4.38.0 in c:\\users\\dipti\\anaconda3\\lib\\site-packages (from spacy<3.5.0,>=3.4.0->en-core-web-lg==3.4.1) (4.64.0)\n",
      "Requirement already satisfied: catalogue<2.1.0,>=2.0.6 in c:\\users\\dipti\\anaconda3\\lib\\site-packages (from spacy<3.5.0,>=3.4.0->en-core-web-lg==3.4.1) (2.0.8)\n",
      "Requirement already satisfied: pathy>=0.3.5 in c:\\users\\dipti\\anaconda3\\lib\\site-packages (from spacy<3.5.0,>=3.4.0->en-core-web-lg==3.4.1) (0.10.1)\n",
      "Requirement already satisfied: requests<3.0.0,>=2.13.0 in c:\\users\\dipti\\anaconda3\\lib\\site-packages (from spacy<3.5.0,>=3.4.0->en-core-web-lg==3.4.1) (2.28.1)\n",
      "Requirement already satisfied: pydantic!=1.8,!=1.8.1,<1.11.0,>=1.7.4 in c:\\users\\dipti\\anaconda3\\lib\\site-packages (from spacy<3.5.0,>=3.4.0->en-core-web-lg==3.4.1) (1.10.4)\n",
      "Requirement already satisfied: langcodes<4.0.0,>=3.2.0 in c:\\users\\dipti\\anaconda3\\lib\\site-packages (from spacy<3.5.0,>=3.4.0->en-core-web-lg==3.4.1) (3.3.0)\n",
      "Requirement already satisfied: typing-extensions>=4.2.0 in c:\\users\\dipti\\anaconda3\\lib\\site-packages (from pydantic!=1.8,!=1.8.1,<1.11.0,>=1.7.4->spacy<3.5.0,>=3.4.0->en-core-web-lg==3.4.1) (4.3.0)\n",
      "Requirement already satisfied: certifi>=2017.4.17 in c:\\users\\dipti\\anaconda3\\lib\\site-packages (from requests<3.0.0,>=2.13.0->spacy<3.5.0,>=3.4.0->en-core-web-lg==3.4.1) (2022.6.15)\n",
      "Requirement already satisfied: charset-normalizer<3,>=2 in c:\\users\\dipti\\anaconda3\\lib\\site-packages (from requests<3.0.0,>=2.13.0->spacy<3.5.0,>=3.4.0->en-core-web-lg==3.4.1) (2.0.4)\n",
      "Requirement already satisfied: idna<4,>=2.5 in c:\\users\\dipti\\anaconda3\\lib\\site-packages (from requests<3.0.0,>=2.13.0->spacy<3.5.0,>=3.4.0->en-core-web-lg==3.4.1) (3.3)\n",
      "Requirement already satisfied: urllib3<1.27,>=1.21.1 in c:\\users\\dipti\\anaconda3\\lib\\site-packages (from requests<3.0.0,>=2.13.0->spacy<3.5.0,>=3.4.0->en-core-web-lg==3.4.1) (1.26.11)\n",
      "Requirement already satisfied: confection<1.0.0,>=0.0.1 in c:\\users\\dipti\\anaconda3\\lib\\site-packages (from thinc<8.2.0,>=8.1.0->spacy<3.5.0,>=3.4.0->en-core-web-lg==3.4.1) (0.0.4)\n",
      "Requirement already satisfied: blis<0.8.0,>=0.7.8 in c:\\users\\dipti\\anaconda3\\lib\\site-packages (from thinc<8.2.0,>=8.1.0->spacy<3.5.0,>=3.4.0->en-core-web-lg==3.4.1) (0.7.9)\n",
      "Requirement already satisfied: colorama in c:\\users\\dipti\\anaconda3\\lib\\site-packages (from tqdm<5.0.0,>=4.38.0->spacy<3.5.0,>=3.4.0->en-core-web-lg==3.4.1) (0.4.6)\n",
      "Requirement already satisfied: click<9.0.0,>=7.1.1 in c:\\users\\dipti\\anaconda3\\lib\\site-packages (from typer<0.8.0,>=0.3.0->spacy<3.5.0,>=3.4.0->en-core-web-lg==3.4.1) (8.0.4)\n",
      "Requirement already satisfied: MarkupSafe>=2.0 in c:\\users\\dipti\\anaconda3\\lib\\site-packages (from jinja2->spacy<3.5.0,>=3.4.0->en-core-web-lg==3.4.1) (2.0.1)\n",
      "[+] Download and installation successful\n",
      "You can now load the package via spacy.load('en_core_web_lg')\n"
     ]
    },
    {
     "name": "stderr",
     "output_type": "stream",
     "text": [
      "\n",
      "[notice] A new release of pip is available: 23.0.1 -> 23.1.1\n",
      "[notice] To update, run: python.exe -m pip install --upgrade pip\n"
     ]
    }
   ],
   "source": [
    "!python -m spacy download en_core_web_lg"
   ]
  },
  {
   "cell_type": "code",
   "execution_count": 2,
   "id": "d01a9fad",
   "metadata": {},
   "outputs": [
    {
     "name": "stdout",
     "output_type": "stream",
     "text": [
      "Requirement already satisfied: pandas in c:\\users\\dipti\\anaconda3\\lib\\site-packages (1.4.3)\n",
      "Requirement already satisfied: pytz>=2020.1 in c:\\users\\dipti\\anaconda3\\lib\\site-packages (from pandas) (2022.1)\n",
      "Requirement already satisfied: python-dateutil>=2.8.1 in c:\\users\\dipti\\anaconda3\\lib\\site-packages (from pandas) (2.8.2)\n",
      "Requirement already satisfied: numpy>=1.18.5 in c:\\users\\dipti\\anaconda3\\lib\\site-packages (from pandas) (1.21.6)\n",
      "Requirement already satisfied: six>=1.5 in c:\\users\\dipti\\anaconda3\\lib\\site-packages (from python-dateutil>=2.8.1->pandas) (1.16.0)\n"
     ]
    },
    {
     "name": "stderr",
     "output_type": "stream",
     "text": [
      "\n",
      "[notice] A new release of pip is available: 23.0.1 -> 23.1.1\n",
      "[notice] To update, run: python.exe -m pip install --upgrade pip\n"
     ]
    }
   ],
   "source": [
    "!pip install pandas"
   ]
  },
  {
   "cell_type": "markdown",
   "id": "64b3452a",
   "metadata": {},
   "source": [
    "### Importing the IMDB Dataset"
   ]
  },
  {
   "cell_type": "code",
   "execution_count": 3,
   "id": "a614cfe1",
   "metadata": {},
   "outputs": [
    {
     "data": {
      "text/html": [
       "<div>\n",
       "<style scoped>\n",
       "    .dataframe tbody tr th:only-of-type {\n",
       "        vertical-align: middle;\n",
       "    }\n",
       "\n",
       "    .dataframe tbody tr th {\n",
       "        vertical-align: top;\n",
       "    }\n",
       "\n",
       "    .dataframe thead th {\n",
       "        text-align: right;\n",
       "    }\n",
       "</style>\n",
       "<table border=\"1\" class=\"dataframe\">\n",
       "  <thead>\n",
       "    <tr style=\"text-align: right;\">\n",
       "      <th></th>\n",
       "      <th>review</th>\n",
       "      <th>sentiment</th>\n",
       "    </tr>\n",
       "  </thead>\n",
       "  <tbody>\n",
       "    <tr>\n",
       "      <th>0</th>\n",
       "      <td>One of the other reviewers has mentioned that ...</td>\n",
       "      <td>positive</td>\n",
       "    </tr>\n",
       "    <tr>\n",
       "      <th>1</th>\n",
       "      <td>A wonderful little production. &lt;br /&gt;&lt;br /&gt;The...</td>\n",
       "      <td>positive</td>\n",
       "    </tr>\n",
       "    <tr>\n",
       "      <th>2</th>\n",
       "      <td>I thought this was a wonderful way to spend ti...</td>\n",
       "      <td>positive</td>\n",
       "    </tr>\n",
       "    <tr>\n",
       "      <th>3</th>\n",
       "      <td>Basically there's a family where a little boy ...</td>\n",
       "      <td>negative</td>\n",
       "    </tr>\n",
       "    <tr>\n",
       "      <th>4</th>\n",
       "      <td>Petter Mattei's \"Love in the Time of Money\" is...</td>\n",
       "      <td>positive</td>\n",
       "    </tr>\n",
       "    <tr>\n",
       "      <th>...</th>\n",
       "      <td>...</td>\n",
       "      <td>...</td>\n",
       "    </tr>\n",
       "    <tr>\n",
       "      <th>49995</th>\n",
       "      <td>I thought this movie did a down right good job...</td>\n",
       "      <td>positive</td>\n",
       "    </tr>\n",
       "    <tr>\n",
       "      <th>49996</th>\n",
       "      <td>Bad plot, bad dialogue, bad acting, idiotic di...</td>\n",
       "      <td>negative</td>\n",
       "    </tr>\n",
       "    <tr>\n",
       "      <th>49997</th>\n",
       "      <td>I am a Catholic taught in parochial elementary...</td>\n",
       "      <td>negative</td>\n",
       "    </tr>\n",
       "    <tr>\n",
       "      <th>49998</th>\n",
       "      <td>I'm going to have to disagree with the previou...</td>\n",
       "      <td>negative</td>\n",
       "    </tr>\n",
       "    <tr>\n",
       "      <th>49999</th>\n",
       "      <td>No one expects the Star Trek movies to be high...</td>\n",
       "      <td>negative</td>\n",
       "    </tr>\n",
       "  </tbody>\n",
       "</table>\n",
       "<p>50000 rows × 2 columns</p>\n",
       "</div>"
      ],
      "text/plain": [
       "                                                  review sentiment\n",
       "0      One of the other reviewers has mentioned that ...  positive\n",
       "1      A wonderful little production. <br /><br />The...  positive\n",
       "2      I thought this was a wonderful way to spend ti...  positive\n",
       "3      Basically there's a family where a little boy ...  negative\n",
       "4      Petter Mattei's \"Love in the Time of Money\" is...  positive\n",
       "...                                                  ...       ...\n",
       "49995  I thought this movie did a down right good job...  positive\n",
       "49996  Bad plot, bad dialogue, bad acting, idiotic di...  negative\n",
       "49997  I am a Catholic taught in parochial elementary...  negative\n",
       "49998  I'm going to have to disagree with the previou...  negative\n",
       "49999  No one expects the Star Trek movies to be high...  negative\n",
       "\n",
       "[50000 rows x 2 columns]"
      ]
     },
     "execution_count": 3,
     "metadata": {},
     "output_type": "execute_result"
    }
   ],
   "source": [
    "import pandas as pd\n",
    "data = pd.read_csv(r'C:\\Users\\dipti\\Downloads\\IMDB Dataset.csv')\n",
    "data"
   ]
  },
  {
   "cell_type": "code",
   "execution_count": 4,
   "id": "31f37b61",
   "metadata": {},
   "outputs": [
    {
     "data": {
      "text/plain": [
       "positive    25000\n",
       "negative    25000\n",
       "Name: sentiment, dtype: int64"
      ]
     },
     "execution_count": 4,
     "metadata": {},
     "output_type": "execute_result"
    }
   ],
   "source": [
    "data['sentiment'].value_counts()"
   ]
  },
  {
   "cell_type": "markdown",
   "id": "5e0ed291",
   "metadata": {},
   "source": [
    "### Data Pre-processing: Convert Review's column into lowercase, remove stop-words, lemmatize"
   ]
  },
  {
   "cell_type": "code",
   "execution_count": 5,
   "id": "ea3d83d0",
   "metadata": {},
   "outputs": [],
   "source": [
    "import spacy #load spacy\n",
    "nlp = spacy.load(\"en_core_web_lg\")\n",
    "def normalize(review, lowercase, remove_stopwords):\n",
    "    if lowercase:\n",
    "        review = review.lower()\n",
    "    doc = nlp(review)\n",
    "    lemmatized = list()\n",
    "    for token in doc:\n",
    "        if not remove_stopwords or (remove_stopwords and not token.is_stop):\n",
    "            lemmatized.append(token.lemma_)\n",
    "    return \" \".join(lemmatized)\n",
    "data['processed'] = data['review'].apply(normalize, lowercase=True, remove_stopwords=True)"
   ]
  },
  {
   "cell_type": "code",
   "execution_count": 6,
   "id": "8903a25b",
   "metadata": {},
   "outputs": [],
   "source": [
    "#Splitting the data into trainig and testing\n",
    "from sklearn.model_selection import train_test_split\n",
    "X_train, X_test, Y_train, Y_test = train_test_split(data['review'], data['sentiment'], test_size=0.2, random_state=5)"
   ]
  },
  {
   "cell_type": "code",
   "execution_count": 20,
   "id": "b3f170cb",
   "metadata": {},
   "outputs": [
    {
     "data": {
      "text/plain": [
       "(40000, 3000)"
      ]
     },
     "execution_count": 20,
     "metadata": {},
     "output_type": "execute_result"
    }
   ],
   "source": [
    "#Pre-Prcoessing and Bag of Word Vectorization using Count Vectorizer\n",
    "from sklearn.feature_extraction.text import CountVectorizer\n",
    "from nltk.tokenize import RegexpTokenizer\n",
    "token = RegexpTokenizer(r'[a-zA-Z0-9]+')\n",
    "#cv = CountVectorizer(stop_words='english',ngram_range = (1,1),tokenizer = token.tokenize, max_features = 800)\n",
    "cv = CountVectorizer(stop_words='english',ngram_range = (1,1),tokenizer = token.tokenize, max_features = 3000, binary = True)\n",
    "X_train_vect = cv.fit_transform(X_train)\n",
    "X_train_vect.shape"
   ]
  },
  {
   "cell_type": "code",
   "execution_count": 21,
   "id": "4fa45431",
   "metadata": {},
   "outputs": [
    {
     "name": "stderr",
     "output_type": "stream",
     "text": [
      "C:\\Users\\dipti\\anaconda3\\lib\\site-packages\\sklearn\\utils\\deprecation.py:87: FutureWarning: Function get_feature_names is deprecated; get_feature_names is deprecated in 1.0 and will be removed in 1.2. Please use get_feature_names_out instead.\n",
      "  warnings.warn(msg, category=FutureWarning)\n"
     ]
    },
    {
     "data": {
      "text/html": [
       "<div>\n",
       "<style scoped>\n",
       "    .dataframe tbody tr th:only-of-type {\n",
       "        vertical-align: middle;\n",
       "    }\n",
       "\n",
       "    .dataframe tbody tr th {\n",
       "        vertical-align: top;\n",
       "    }\n",
       "\n",
       "    .dataframe thead th {\n",
       "        text-align: right;\n",
       "    }\n",
       "</style>\n",
       "<table border=\"1\" class=\"dataframe\">\n",
       "  <thead>\n",
       "    <tr style=\"text-align: right;\">\n",
       "      <th></th>\n",
       "      <th>0</th>\n",
       "      <th>000</th>\n",
       "      <th>1</th>\n",
       "      <th>10</th>\n",
       "      <th>100</th>\n",
       "      <th>11</th>\n",
       "      <th>12</th>\n",
       "      <th>13</th>\n",
       "      <th>14</th>\n",
       "      <th>15</th>\n",
       "      <th>...</th>\n",
       "      <th>years</th>\n",
       "      <th>yes</th>\n",
       "      <th>york</th>\n",
       "      <th>young</th>\n",
       "      <th>younger</th>\n",
       "      <th>youth</th>\n",
       "      <th>zero</th>\n",
       "      <th>zombie</th>\n",
       "      <th>zombies</th>\n",
       "      <th>zone</th>\n",
       "    </tr>\n",
       "  </thead>\n",
       "  <tbody>\n",
       "    <tr>\n",
       "      <th>0</th>\n",
       "      <td>0</td>\n",
       "      <td>0</td>\n",
       "      <td>0</td>\n",
       "      <td>0</td>\n",
       "      <td>0</td>\n",
       "      <td>0</td>\n",
       "      <td>0</td>\n",
       "      <td>0</td>\n",
       "      <td>0</td>\n",
       "      <td>0</td>\n",
       "      <td>...</td>\n",
       "      <td>0</td>\n",
       "      <td>0</td>\n",
       "      <td>0</td>\n",
       "      <td>0</td>\n",
       "      <td>0</td>\n",
       "      <td>0</td>\n",
       "      <td>0</td>\n",
       "      <td>0</td>\n",
       "      <td>0</td>\n",
       "      <td>0</td>\n",
       "    </tr>\n",
       "    <tr>\n",
       "      <th>1</th>\n",
       "      <td>0</td>\n",
       "      <td>0</td>\n",
       "      <td>0</td>\n",
       "      <td>0</td>\n",
       "      <td>0</td>\n",
       "      <td>0</td>\n",
       "      <td>0</td>\n",
       "      <td>0</td>\n",
       "      <td>0</td>\n",
       "      <td>0</td>\n",
       "      <td>...</td>\n",
       "      <td>0</td>\n",
       "      <td>0</td>\n",
       "      <td>0</td>\n",
       "      <td>0</td>\n",
       "      <td>0</td>\n",
       "      <td>0</td>\n",
       "      <td>0</td>\n",
       "      <td>0</td>\n",
       "      <td>0</td>\n",
       "      <td>0</td>\n",
       "    </tr>\n",
       "    <tr>\n",
       "      <th>2</th>\n",
       "      <td>0</td>\n",
       "      <td>0</td>\n",
       "      <td>1</td>\n",
       "      <td>1</td>\n",
       "      <td>0</td>\n",
       "      <td>0</td>\n",
       "      <td>0</td>\n",
       "      <td>0</td>\n",
       "      <td>0</td>\n",
       "      <td>0</td>\n",
       "      <td>...</td>\n",
       "      <td>0</td>\n",
       "      <td>1</td>\n",
       "      <td>0</td>\n",
       "      <td>0</td>\n",
       "      <td>0</td>\n",
       "      <td>0</td>\n",
       "      <td>0</td>\n",
       "      <td>0</td>\n",
       "      <td>1</td>\n",
       "      <td>0</td>\n",
       "    </tr>\n",
       "    <tr>\n",
       "      <th>3</th>\n",
       "      <td>0</td>\n",
       "      <td>0</td>\n",
       "      <td>0</td>\n",
       "      <td>0</td>\n",
       "      <td>0</td>\n",
       "      <td>0</td>\n",
       "      <td>1</td>\n",
       "      <td>0</td>\n",
       "      <td>1</td>\n",
       "      <td>0</td>\n",
       "      <td>...</td>\n",
       "      <td>1</td>\n",
       "      <td>0</td>\n",
       "      <td>0</td>\n",
       "      <td>0</td>\n",
       "      <td>0</td>\n",
       "      <td>0</td>\n",
       "      <td>0</td>\n",
       "      <td>0</td>\n",
       "      <td>0</td>\n",
       "      <td>0</td>\n",
       "    </tr>\n",
       "    <tr>\n",
       "      <th>4</th>\n",
       "      <td>0</td>\n",
       "      <td>0</td>\n",
       "      <td>0</td>\n",
       "      <td>1</td>\n",
       "      <td>0</td>\n",
       "      <td>0</td>\n",
       "      <td>0</td>\n",
       "      <td>0</td>\n",
       "      <td>0</td>\n",
       "      <td>0</td>\n",
       "      <td>...</td>\n",
       "      <td>0</td>\n",
       "      <td>0</td>\n",
       "      <td>0</td>\n",
       "      <td>0</td>\n",
       "      <td>0</td>\n",
       "      <td>0</td>\n",
       "      <td>0</td>\n",
       "      <td>0</td>\n",
       "      <td>0</td>\n",
       "      <td>0</td>\n",
       "    </tr>\n",
       "  </tbody>\n",
       "</table>\n",
       "<p>5 rows × 3000 columns</p>\n",
       "</div>"
      ],
      "text/plain": [
       "   0  000  1  10  100  11  12  13  14  15  ...  years  yes  york  young  \\\n",
       "0  0    0  0   0    0   0   0   0   0   0  ...      0    0     0      0   \n",
       "1  0    0  0   0    0   0   0   0   0   0  ...      0    0     0      0   \n",
       "2  0    0  1   1    0   0   0   0   0   0  ...      0    1     0      0   \n",
       "3  0    0  0   0    0   0   1   0   1   0  ...      1    0     0      0   \n",
       "4  0    0  0   1    0   0   0   0   0   0  ...      0    0     0      0   \n",
       "\n",
       "   younger  youth  zero  zombie  zombies  zone  \n",
       "0        0      0     0       0        0     0  \n",
       "1        0      0     0       0        0     0  \n",
       "2        0      0     0       0        1     0  \n",
       "3        0      0     0       0        0     0  \n",
       "4        0      0     0       0        0     0  \n",
       "\n",
       "[5 rows x 3000 columns]"
      ]
     },
     "execution_count": 21,
     "metadata": {},
     "output_type": "execute_result"
    }
   ],
   "source": [
    "df = pd.DataFrame(X_train_vect.toarray(), columns=cv.get_feature_names())\n",
    "df.head()"
   ]
  },
  {
   "cell_type": "code",
   "execution_count": 22,
   "id": "d27475cb",
   "metadata": {},
   "outputs": [
    {
     "data": {
      "text/plain": [
       "{'excellent': 901,\n",
       " 'reason': 2121,\n",
       " 'went': 2923,\n",
       " 'straight': 2527,\n",
       " 'video': 2848,\n",
       " 'theaters': 2675,\n",
       " 'movie': 1757,\n",
       " 'entirely': 868,\n",
       " 'long': 1586,\n",
       " 'boring': 317,\n",
       " 'just': 1455,\n",
       " 'notch': 1819,\n",
       " 'thanks': 2672,\n",
       " 'obviously': 1840,\n",
       " 'weeks': 2919,\n",
       " 'films': 1021,\n",
       " 'bad': 236,\n",
       " 'guys': 1200,\n",
       " 'laughable': 1514,\n",
       " 'action': 66,\n",
       " 'near': 1789,\n",
       " 'non': 1811,\n",
       " 'existent': 913,\n",
       " 's': 2250,\n",
       " 'acting': 65,\n",
       " 'hate': 1230,\n",
       " 'guy': 1199,\n",
       " 'realizes': 2119,\n",
       " 'pop': 1984,\n",
       " 'better': 282,\n",
       " 'br': 328,\n",
       " 'isn': 1410,\n",
       " 't': 2617,\n",
       " 'like': 1561,\n",
       " 'fact': 948,\n",
       " 'll': 1578,\n",
       " 'cool': 571,\n",
       " 'j': 1415,\n",
       " 'given': 1140,\n",
       " 'appears': 172,\n",
       " 'shot': 2364,\n",
       " 'leading': 1525,\n",
       " 'man': 1641,\n",
       " 'deserves': 701,\n",
       " 'unlike': 2811,\n",
       " 'fellow': 1000,\n",
       " 'star': 2482,\n",
       " 'act': 63,\n",
       " 'kevin': 1464,\n",
       " 'enjoyable': 857,\n",
       " 'times': 2706,\n",
       " 'scenery': 2278,\n",
       " 'ability': 44,\n",
       " 'flick': 1043,\n",
       " 'stars': 2485,\n",
       " 'good': 1154,\n",
       " 'said': 2254,\n",
       " 'ultimate': 2784,\n",
       " 'piece': 1947,\n",
       " 'fails': 953,\n",
       " 'make': 1634,\n",
       " 'crap': 595,\n",
       " 'characters': 436,\n",
       " 'plain': 1955,\n",
       " 'rent': 2168,\n",
       " 'suffering': 2575,\n",
       " 'funny': 1105,\n",
       " 'makes': 1637,\n",
       " 'eddie': 820,\n",
       " 'disappointing': 744,\n",
       " 'cop': 572,\n",
       " 'professor': 2041,\n",
       " 'goes': 1148,\n",
       " 'really': 2120,\n",
       " 'honest': 1289,\n",
       " 'don': 766,\n",
       " 'think': 2683,\n",
       " 've': 2839,\n",
       " 'laughed': 1515,\n",
       " 'including': 1356,\n",
       " 'naked': 1776,\n",
       " 'gun': 1196,\n",
       " 'rarely': 2101,\n",
       " 'seen': 2310,\n",
       " 'amazing': 130,\n",
       " 'certainly': 425,\n",
       " 'filled': 1015,\n",
       " 'word': 2964,\n",
       " 'beginning': 268,\n",
       " 'f': 942,\n",
       " 'plus': 1973,\n",
       " 'version': 2841,\n",
       " 'm': 1622,\n",
       " 'didn': 725,\n",
       " 'bother': 320,\n",
       " 'funniest': 1104,\n",
       " 'thing': 2681,\n",
       " 'probably': 2029,\n",
       " 'kind': 1478,\n",
       " 'sucked': 2569,\n",
       " 'right': 2206,\n",
       " 'hell': 1252,\n",
       " 'movies': 1758,\n",
       " 'soft': 2424,\n",
       " 'spot': 2473,\n",
       " 'heart': 1244,\n",
       " 'silly': 2379,\n",
       " 'alien': 116,\n",
       " 'demon': 688,\n",
       " 'adventure': 90,\n",
       " 'let': 1546,\n",
       " 'decided': 674,\n",
       " 'watch': 2900,\n",
       " 'place': 1952,\n",
       " '1': 2,\n",
       " 'horror': 1301,\n",
       " 'sci': 2281,\n",
       " 'fi': 1005,\n",
       " '2': 17,\n",
       " 'big': 283,\n",
       " 'fan': 970,\n",
       " 'does': 759,\n",
       " 'rare': 2100,\n",
       " 'treasure': 2744,\n",
       " '3': 25,\n",
       " 'super': 2587,\n",
       " 'natural': 1785,\n",
       " 'quality': 2077,\n",
       " '4': 27,\n",
       " 'christian': 467,\n",
       " 'generally': 1122,\n",
       " 'enjoy': 856,\n",
       " '5': 30,\n",
       " 'hot': 1306,\n",
       " 'potential': 1997,\n",
       " 'cheese': 450,\n",
       " 'section': 2304,\n",
       " 'store': 2521,\n",
       " 'boy': 325,\n",
       " 'did': 724,\n",
       " 'suck': 2568,\n",
       " 'ass': 199,\n",
       " 'redeeming': 2134,\n",
       " 'aspects': 198,\n",
       " 'finds': 1026,\n",
       " 'entertaining': 865,\n",
       " 'mean': 1670,\n",
       " 'face': 944,\n",
       " 'melodramatic': 1683,\n",
       " 'worse': 2972,\n",
       " 'performance': 1925,\n",
       " 'truly': 2761,\n",
       " 'awful': 230,\n",
       " 'talking': 2629,\n",
       " 'worst': 2973,\n",
       " 'year': 2989,\n",
       " 'know': 1485,\n",
       " 'capable': 387,\n",
       " 'playing': 1965,\n",
       " 'simply': 2384,\n",
       " 'league': 1527,\n",
       " 'completely': 531,\n",
       " 'watching': 2904,\n",
       " 'try': 2764,\n",
       " 'carry': 400,\n",
       " 'roll': 2226,\n",
       " 'scientist': 2283,\n",
       " 'wasn': 2896,\n",
       " 'different': 730,\n",
       " 'porn': 1986,\n",
       " 'oh': 1852,\n",
       " 'curious': 629,\n",
       " 'doesn': 760,\n",
       " 'totally': 2724,\n",
       " 'unnecessary': 2813,\n",
       " 'love': 1607,\n",
       " 'scene': 2277,\n",
       " 'worked': 2967,\n",
       " 'plot': 1971,\n",
       " 'written': 2983,\n",
       " '10': 3,\n",
       " 'old': 1855,\n",
       " 'hadn': 1202,\n",
       " 'realized': 2118,\n",
       " 'game': 1110,\n",
       " 'adaptation': 77,\n",
       " 'dvd': 807,\n",
       " 'appreciated': 174,\n",
       " 'stupidity': 2554,\n",
       " 'real': 2113,\n",
       " 'time': 2705,\n",
       " 'storyline': 2525,\n",
       " 'jumps': 1452,\n",
       " 'forth': 1078,\n",
       " 'childhood': 456,\n",
       " 'gets': 1132,\n",
       " 'flashbacks': 1037,\n",
       " 'terrible': 2662,\n",
       " 'happened': 1217,\n",
       " 'course': 589,\n",
       " 'adult': 87,\n",
       " 'life': 1555,\n",
       " 'military': 1708,\n",
       " 'force': 1063,\n",
       " 'apparently': 164,\n",
       " 'evil': 895,\n",
       " 'leave': 1532,\n",
       " 'guess': 1191,\n",
       " 'unless': 2810,\n",
       " 'voice': 2869,\n",
       " 'starts': 2489,\n",
       " 'latest': 1512,\n",
       " 'selling': 2315,\n",
       " 'exact': 897,\n",
       " 'quote': 2087,\n",
       " 'wrong': 2984,\n",
       " 'idea': 1326,\n",
       " 'doctor': 757,\n",
       " 'wants': 2887,\n",
       " 'earth': 812,\n",
       " 'children': 457,\n",
       " 'human': 1313,\n",
       " 'things': 2682,\n",
       " 'stand': 2477,\n",
       " 'save': 2263,\n",
       " 'jesus': 1428,\n",
       " 'clich': 487,\n",
       " 'd': 637,\n",
       " 'elements': 833,\n",
       " 'script': 2292,\n",
       " 'badly': 237,\n",
       " 'needed': 1796,\n",
       " 'focus': 1050,\n",
       " 'provide': 2058,\n",
       " 'depth': 695,\n",
       " 'damn': 640,\n",
       " 'humans': 1315,\n",
       " 'trying': 2765,\n",
       " 'race': 2089,\n",
       " 'happen': 1216,\n",
       " 'cage': 374,\n",
       " 'blood': 299,\n",
       " 'shoot': 2357,\n",
       " 'yes': 2991,\n",
       " 'use': 2821,\n",
       " 'aliens': 117,\n",
       " 'demons': 689,\n",
       " 'host': 1305,\n",
       " 'half': 1204,\n",
       " 'fully': 1101,\n",
       " 'shock': 2354,\n",
       " 'thank': 2670,\n",
       " 'god': 1147,\n",
       " 'people': 1920,\n",
       " 'members': 1685,\n",
       " 'community': 522,\n",
       " 'secret': 2303,\n",
       " 'turn': 2768,\n",
       " 'killer': 1473,\n",
       " 'zombies': 2998,\n",
       " 'yeah': 2988,\n",
       " 'lots': 1602,\n",
       " 'ending': 847,\n",
       " 'stupid': 2553,\n",
       " 'turns': 2771,\n",
       " 'deal': 661,\n",
       " 'little': 1573,\n",
       " 'handle': 1210,\n",
       " 'reviewer': 2197,\n",
       " 'stated': 2491,\n",
       " 'nice': 1803,\n",
       " 'family': 968,\n",
       " 'fun': 1102,\n",
       " 'fantasy': 974,\n",
       " 'aspect': 197,\n",
       " 'travel': 2743,\n",
       " 'story': 2524,\n",
       " 'revolves': 2200,\n",
       " '14': 8,\n",
       " 'girl': 1137,\n",
       " 'accidentally': 57,\n",
       " 'way': 2906,\n",
       " 'apartment': 161,\n",
       " 'building': 362,\n",
       " 'believes': 276,\n",
       " 'tries': 2753,\n",
       " 'explain': 925,\n",
       " 'friends': 1097,\n",
       " 'age': 98,\n",
       " 'able': 45,\n",
       " 'help': 1253,\n",
       " 'ways': 2908,\n",
       " 'relationship': 2146,\n",
       " 'father': 983,\n",
       " 'run': 2243,\n",
       " 'reminds': 2164,\n",
       " 'chance': 429,\n",
       " 'decide': 673,\n",
       " '6': 32,\n",
       " '12': 6,\n",
       " 'years': 2990,\n",
       " 'maybe': 1669,\n",
       " 'bit': 288,\n",
       " 'older': 1856,\n",
       " 'pretty': 2016,\n",
       " 'pg': 1937,\n",
       " 'g': 1107,\n",
       " 'rated': 2103,\n",
       " 'appreciate': 173,\n",
       " 'jean': 1424,\n",
       " 'bloody': 300,\n",
       " 'vampire': 2834,\n",
       " 'women': 2954,\n",
       " 'sort': 2438,\n",
       " 'major': 1632,\n",
       " 'stuff': 2550,\n",
       " 'french': 1091,\n",
       " 'subtitles': 2561,\n",
       " 'driving': 795,\n",
       " 'road': 2216,\n",
       " 'night': 1806,\n",
       " 'comes': 512,\n",
       " 'woman': 2953,\n",
       " 'picks': 1944,\n",
       " 'background': 235,\n",
       " 'wearing': 2914,\n",
       " 'drive': 791,\n",
       " 'obvious': 1839,\n",
       " 'quickly': 2083,\n",
       " 'having': 1235,\n",
       " 'sex': 2339,\n",
       " 'return': 2187,\n",
       " 'paris': 1898,\n",
       " 'leaves': 1533,\n",
       " 'work': 2966,\n",
       " 'away': 228,\n",
       " 'huge': 1312,\n",
       " 'black': 292,\n",
       " 'memory': 1688,\n",
       " 'problems': 2031,\n",
       " 'held': 1251,\n",
       " 'events': 890,\n",
       " 'going': 1149,\n",
       " 'manage': 1642,\n",
       " 'robert': 2218,\n",
       " 'picked': 1943,\n",
       " 'come': 507,\n",
       " 'rescue': 2179,\n",
       " 'revelation': 2194,\n",
       " 'moments': 1737,\n",
       " 'strange': 2528,\n",
       " 'touching': 2728,\n",
       " 'end': 844,\n",
       " 'typical': 2779,\n",
       " 'formula': 1077,\n",
       " 'created': 600,\n",
       " 'feel': 994,\n",
       " 'fascinating': 977,\n",
       " 'disturbing': 756,\n",
       " 'film': 1016,\n",
       " 'lot': 1601,\n",
       " 'check': 448,\n",
       " '8': 38,\n",
       " 'particular': 1902,\n",
       " 'title': 2710,\n",
       " 'interesting': 1393,\n",
       " 'magical': 1627,\n",
       " 'horrible': 1298,\n",
       " 'political': 1980,\n",
       " 'power': 1998,\n",
       " 'animation': 148,\n",
       " 'decent': 672,\n",
       " 'fight': 1009,\n",
       " 'scenes': 2279,\n",
       " 'looks': 1591,\n",
       " 'monsters': 1740,\n",
       " 'liked': 1562,\n",
       " 'tend': 2657,\n",
       " 'great': 1174,\n",
       " 'late': 1510,\n",
       " 'paul': 1916,\n",
       " 'r': 2088,\n",
       " 'p': 1882,\n",
       " 'starring': 2484,\n",
       " 'specific': 2454,\n",
       " 'charm': 442,\n",
       " 'flicks': 1044,\n",
       " 'rule': 2241,\n",
       " 'exception': 902,\n",
       " 'aka': 108,\n",
       " 'devil': 719,\n",
       " 'proves': 2057,\n",
       " 'sadly': 2252,\n",
       " 'drags': 777,\n",
       " 'far': 975,\n",
       " 'dull': 805,\n",
       " 'uses': 2824,\n",
       " 'magic': 1626,\n",
       " 'stay': 2496,\n",
       " 'british': 347,\n",
       " 'learns': 1531,\n",
       " 'behavior': 270,\n",
       " 'decides': 675,\n",
       " 'arms': 180,\n",
       " 'free': 1089,\n",
       " 'directed': 735,\n",
       " 'n': 1774,\n",
       " 'best': 280,\n",
       " 'known': 1488,\n",
       " 'directing': 736,\n",
       " 'la': 1493,\n",
       " 'vs': 2872,\n",
       " 'say': 2268,\n",
       " 'original': 1870,\n",
       " 'job': 1433,\n",
       " 'case': 405,\n",
       " 'built': 363,\n",
       " 'historical': 1275,\n",
       " 'quite': 2086,\n",
       " 'middle': 1704,\n",
       " 'sword': 2614,\n",
       " 'set': 2334,\n",
       " 'added': 80,\n",
       " 'genre': 1126,\n",
       " 'parts': 1905,\n",
       " 'giving': 1142,\n",
       " 'weird': 2921,\n",
       " 'looking': 1590,\n",
       " 'doing': 763,\n",
       " 'innocent': 1374,\n",
       " 'victims': 2846,\n",
       " 'hero': 1258,\n",
       " 'female': 1002,\n",
       " 'cast': 408,\n",
       " 'look': 1588,\n",
       " 'features': 992,\n",
       " 'nudity': 1829,\n",
       " 'gore': 1158,\n",
       " 'overall': 1878,\n",
       " 'worth': 2974,\n",
       " 'spanish': 2449,\n",
       " 'los': 1595,\n",
       " 'hanging': 1215,\n",
       " 'die': 726,\n",
       " 'humorous': 1317,\n",
       " 'presented': 2012,\n",
       " 'delightful': 683,\n",
       " 'beauty': 263,\n",
       " 'gorgeous': 1159,\n",
       " 'miss': 1724,\n",
       " 'split': 2465,\n",
       " 'summary': 2583,\n",
       " 'imdb': 1342,\n",
       " 'sisters': 2393,\n",
       " 'plan': 1956,\n",
       " 'america': 133,\n",
       " 'supporting': 2592,\n",
       " 'especially': 881,\n",
       " 'barbara': 244,\n",
       " 'read': 2110,\n",
       " 'direction': 737,\n",
       " 'editing': 823,\n",
       " 'succeeds': 2564,\n",
       " 'songs': 2434,\n",
       " 'sings': 2389,\n",
       " 'police': 1979,\n",
       " 'station': 2494,\n",
       " 'history': 1276,\n",
       " 'viewer': 2853,\n",
       " '15': 9,\n",
       " 'music': 1770,\n",
       " 'touches': 2727,\n",
       " 'smart': 2416,\n",
       " 'girls': 1139,\n",
       " 'brief': 338,\n",
       " 'glimpse': 1145,\n",
       " 'drunk': 800,\n",
       " 'neck': 1794,\n",
       " 'final': 1022,\n",
       " 'cops': 573,\n",
       " 'unfortunate': 2799,\n",
       " 'result': 2184,\n",
       " 'success': 2565,\n",
       " 'writers': 2981,\n",
       " 'locked': 1582,\n",
       " 'theme': 2678,\n",
       " 'actress': 70,\n",
       " 'charisma': 438,\n",
       " 'personality': 1933,\n",
       " 'lacked': 1495,\n",
       " 'feature': 990,\n",
       " 'kept': 1463,\n",
       " 'used': 2822,\n",
       " 'proper': 2049,\n",
       " 'character': 435,\n",
       " 'development': 716,\n",
       " 'wait': 2874,\n",
       " 'sure': 2596,\n",
       " 'ups': 2817,\n",
       " 'wasted': 2898,\n",
       " 'couldn': 583,\n",
       " 'shots': 2365,\n",
       " 'zero': 2996,\n",
       " 'rating': 2104,\n",
       " 'laughs': 1517,\n",
       " 'sad': 2251,\n",
       " 'example': 899,\n",
       " 'money': 1738,\n",
       " 'hollywood': 1286,\n",
       " 'waste': 2897,\n",
       " 'thinking': 2684,\n",
       " 'short': 2361,\n",
       " 'trailer': 2738,\n",
       " 'basically': 251,\n",
       " 'batman': 253,\n",
       " 'working': 2968,\n",
       " 'views': 2856,\n",
       " 'crime': 614,\n",
       " 'won': 2955,\n",
       " 'terrific': 2664,\n",
       " 'actors': 69,\n",
       " 'filmmakers': 1020,\n",
       " 'dead': 659,\n",
       " 'thought': 2689,\n",
       " 'world': 2970,\n",
       " 'finest': 1028,\n",
       " '7': 35,\n",
       " 'experience': 920,\n",
       " 'expecting': 918,\n",
       " 'kids': 1470,\n",
       " 'enjoyed': 858,\n",
       " 'teens': 2651,\n",
       " 'moving': 1759,\n",
       " 'finally': 1024,\n",
       " 'note': 1820,\n",
       " 'hours': 1309,\n",
       " 'consider': 547,\n",
       " 'leaving': 1534,\n",
       " 'home': 1288,\n",
       " 'remember': 2160,\n",
       " 'sister': 2392,\n",
       " 'grade': 1166,\n",
       " 'kid': 1468,\n",
       " 'later': 1511,\n",
       " 'mark': 1647,\n",
       " 'billy': 286,\n",
       " 'ice': 1325,\n",
       " 'joe': 1435,\n",
       " 'crying': 625,\n",
       " 'son': 2432,\n",
       " 'talks': 2630,\n",
       " 'streets': 2532,\n",
       " 'change': 430,\n",
       " 'second': 2301,\n",
       " 'came': 379,\n",
       " 'mind': 1712,\n",
       " 'immediately': 1343,\n",
       " 'loving': 1613,\n",
       " 'mature': 1667,\n",
       " 'mood': 1743,\n",
       " 'dealing': 662,\n",
       " 'subject': 2558,\n",
       " 'taking': 2621,\n",
       " 'sides': 2373,\n",
       " 'moral': 1746,\n",
       " 'issues': 1412,\n",
       " 'difficult': 731,\n",
       " 'facts': 950,\n",
       " 'choices': 462,\n",
       " 'personally': 1934,\n",
       " 'chemistry': 452,\n",
       " 'problem': 2030,\n",
       " 'felt': 1001,\n",
       " 'missing': 1726,\n",
       " 'rest': 2183,\n",
       " 'touched': 2726,\n",
       " 'recommend': 2130,\n",
       " 'means': 1673,\n",
       " 'ones': 1858,\n",
       " 'seat': 2300,\n",
       " 'alas': 111,\n",
       " 'van': 2836,\n",
       " 'pretentious': 2015,\n",
       " 'producer': 2035,\n",
       " 'surprise': 2599,\n",
       " 'actually': 74,\n",
       " 'efforts': 831,\n",
       " 'e': 809,\n",
       " 'understand': 2794,\n",
       " 'wishes': 2947,\n",
       " 'portray': 1987,\n",
       " 'certain': 424,\n",
       " 'slowly': 2414,\n",
       " 'changes': 432,\n",
       " 'barely': 246,\n",
       " 'chosen': 465,\n",
       " 'supposedly': 2595,\n",
       " 'happening': 1218,\n",
       " 'dream': 784,\n",
       " 'closely': 491,\n",
       " 'nature': 1787,\n",
       " 'beautifully': 262,\n",
       " 'captured': 390,\n",
       " 'belongs': 277,\n",
       " 'younger': 2994,\n",
       " 'child': 455,\n",
       " 'caught': 415,\n",
       " 'beach': 256,\n",
       " 'tense': 2658,\n",
       " 'object': 1835,\n",
       " 'school': 2280,\n",
       " 'spoilers': 2469,\n",
       " 'mother': 1749,\n",
       " 'throws': 2700,\n",
       " 'fit': 1032,\n",
       " 'present': 2010,\n",
       " 'tension': 2659,\n",
       " 'creation': 603,\n",
       " 'phone': 1938,\n",
       " 'person': 1930,\n",
       " 'convincing': 570,\n",
       " 'actor': 68,\n",
       " 'entire': 867,\n",
       " 'called': 376,\n",
       " 'sounded': 2442,\n",
       " 'believable': 273,\n",
       " 'play': 1961,\n",
       " 'moment': 1736,\n",
       " 'got': 1161,\n",
       " 'somewhat': 2431,\n",
       " 'effort': 830,\n",
       " 'director': 739,\n",
       " 'possible': 1994,\n",
       " 'talents': 2625,\n",
       " 'influence': 1368,\n",
       " 'journey': 1445,\n",
       " 'crafted': 594,\n",
       " 'performances': 1926,\n",
       " 'jack': 1416,\n",
       " 'plots': 1972,\n",
       " 'master': 1660,\n",
       " 'western': 2926,\n",
       " 'audiences': 217,\n",
       " 'likely': 1563,\n",
       " 'culture': 628,\n",
       " 'recommended': 2131,\n",
       " 'india': 1361,\n",
       " 'complete': 530,\n",
       " 'classic': 481,\n",
       " 'compared': 525,\n",
       " 'lives': 1576,\n",
       " 'theory': 2680,\n",
       " 'ride': 2203,\n",
       " 'sequence': 2325,\n",
       " 'stomach': 2515,\n",
       " 'shouldn': 2366,\n",
       " 'brilliant': 341,\n",
       " 'team': 2637,\n",
       " 'writing': 2982,\n",
       " 'tedious': 2646,\n",
       " 'promising': 2046,\n",
       " 'predictable': 2004,\n",
       " 'season': 2298,\n",
       " 'david': 654,\n",
       " 'kelly': 1462,\n",
       " 'crazy': 598,\n",
       " 'cases': 406,\n",
       " 'sympathy': 2616,\n",
       " 'medical': 1677,\n",
       " 'dramas': 779,\n",
       " 'dramatic': 780,\n",
       " 'situations': 2399,\n",
       " 'afraid': 94,\n",
       " 'lines': 1568,\n",
       " 'brought': 354,\n",
       " 'live': 1574,\n",
       " 'tell': 2654,\n",
       " 'plays': 1966,\n",
       " 'somebody': 2430,\n",
       " 'code': 497,\n",
       " 'episode': 872,\n",
       " 'nose': 1817,\n",
       " 'wife': 2932,\n",
       " 'men': 1689,\n",
       " 'moved': 1754,\n",
       " 'death': 667,\n",
       " 'city': 475,\n",
       " 'likes': 1564,\n",
       " '40': 28,\n",
       " 'talented': 2624,\n",
       " 'believe': 274,\n",
       " 'deliver': 684,\n",
       " 'successful': 2566,\n",
       " 'struggling': 2543,\n",
       " 'decision': 676,\n",
       " 'dr': 774,\n",
       " 'concept': 535,\n",
       " 'new': 1801,\n",
       " 'usually': 2827,\n",
       " 'feelings': 996,\n",
       " 'private': 2027,\n",
       " 'program': 2043,\n",
       " 'aired': 107,\n",
       " 'gave': 1117,\n",
       " 'premise': 2007,\n",
       " 'finale': 1023,\n",
       " 'feet': 998,\n",
       " 'head': 1237,\n",
       " 'watched': 2902,\n",
       " 'episodes': 873,\n",
       " 'wow': 2978,\n",
       " 'took': 2719,\n",
       " 'engaging': 853,\n",
       " 'main': 1629,\n",
       " 'literally': 1572,\n",
       " 'touch': 2725,\n",
       " 'consequences': 546,\n",
       " 'dying': 808,\n",
       " 'mysterious': 1772,\n",
       " 'deaths': 668,\n",
       " 'solve': 2429,\n",
       " 'picture': 1945,\n",
       " 'perfect': 1921,\n",
       " 'african': 96,\n",
       " 'american': 134,\n",
       " 'subtle': 2562,\n",
       " 'cultural': 627,\n",
       " 'humor': 1316,\n",
       " 'visual': 2866,\n",
       " 'pieces': 1948,\n",
       " 'entertainment': 866,\n",
       " 'romance': 2228,\n",
       " 'mystery': 1773,\n",
       " 'wish': 2946,\n",
       " 'continue': 559,\n",
       " 'starting': 2488,\n",
       " 'left': 1537,\n",
       " 'causes': 418,\n",
       " 'space': 2448,\n",
       " 'ship': 2353,\n",
       " 'crash': 597,\n",
       " 'modern': 1734,\n",
       " 'day': 657,\n",
       " 'start': 2486,\n",
       " 'cause': 416,\n",
       " 'sends': 2318,\n",
       " 'highly': 1269,\n",
       " 'experienced': 921,\n",
       " 'clean': 483,\n",
       " 'mess': 1696,\n",
       " 'battle': 254,\n",
       " 'biggest': 285,\n",
       " 'pacing': 1885,\n",
       " 'moves': 1756,\n",
       " 'fast': 980,\n",
       " 'opening': 1861,\n",
       " 'credits': 611,\n",
       " 'grows': 1188,\n",
       " 'hunter': 1321,\n",
       " 'introduced': 1400,\n",
       " 'learn': 1528,\n",
       " 'names': 1778,\n",
       " 'killed': 1472,\n",
       " 'lead': 1523,\n",
       " 'happens': 1219,\n",
       " 'minutes': 1720,\n",
       " 'pace': 1883,\n",
       " 'national': 1783,\n",
       " 'guard': 1190,\n",
       " 'town': 2731,\n",
       " 'getting': 1133,\n",
       " 'single': 2388,\n",
       " 'manager': 1644,\n",
       " 'learning': 1530,\n",
       " 'random': 2097,\n",
       " 'shop': 2360,\n",
       " 'running': 2244,\n",
       " 'audience': 216,\n",
       " 'settings': 2337,\n",
       " 'frame': 1083,\n",
       " 'war': 2888,\n",
       " 'zone': 2999,\n",
       " 'underground': 2792,\n",
       " 'small': 2415,\n",
       " 'highlights': 1268,\n",
       " 'uninteresting': 2804,\n",
       " 'hard': 1223,\n",
       " 'frightening': 1099,\n",
       " 'creatures': 607,\n",
       " 'standing': 2480,\n",
       " 'hiding': 1264,\n",
       " 'outside': 1876,\n",
       " 'continuity': 561,\n",
       " 'issue': 1411,\n",
       " 'series': 2328,\n",
       " 'future': 1106,\n",
       " 'heard': 1242,\n",
       " 'reach': 2108,\n",
       " 'humanity': 1314,\n",
       " 'destroyed': 709,\n",
       " 'average': 223,\n",
       " 'seeing': 2306,\n",
       " 'considered': 548,\n",
       " 'minor': 1718,\n",
       " 'attempts': 211,\n",
       " 'massive': 1659,\n",
       " 'ex': 896,\n",
       " 'blue': 304,\n",
       " 'bodies': 308,\n",
       " 'drop': 796,\n",
       " 'army': 181,\n",
       " 'overly': 1880,\n",
       " 'nuclear': 1827,\n",
       " 'evidence': 894,\n",
       " 'existence': 912,\n",
       " 'despite': 707,\n",
       " 'incident': 1352,\n",
       " 'impossible': 1348,\n",
       " 'cover': 592,\n",
       " 'holes': 1285,\n",
       " 'favor': 985,\n",
       " 'majority': 1633,\n",
       " 'manages': 1645,\n",
       " 'kill': 1471,\n",
       " 'l': 1492,\n",
       " 'range': 2098,\n",
       " 'center': 421,\n",
       " 'merely': 1695,\n",
       " 'waiting': 2875,\n",
       " 'putting': 2075,\n",
       " 'suspense': 2611,\n",
       " 'portrayed': 1989,\n",
       " 'superior': 2589,\n",
       " 'flaws': 1041,\n",
       " 'comparison': 526,\n",
       " 'previous': 2017,\n",
       " 'bland': 295,\n",
       " 'cringe': 617,\n",
       " 'worthy': 2976,\n",
       " 'wanting': 2886,\n",
       " 'laid': 1500,\n",
       " 'delivery': 687,\n",
       " 'boys': 327,\n",
       " 'blonde': 298,\n",
       " 'high': 1265,\n",
       " 'copy': 574,\n",
       " 'ideas': 1327,\n",
       " 'acted': 64,\n",
       " 'teenagers': 2650,\n",
       " 'casting': 409,\n",
       " 'attempt': 208,\n",
       " 'pull': 2065,\n",
       " 'effect': 826,\n",
       " 'slasher': 2407,\n",
       " 'young': 2993,\n",
       " 'learned': 1529,\n",
       " 'facial': 947,\n",
       " 'expressions': 932,\n",
       " 'dialog': 720,\n",
       " 'retarded': 2186,\n",
       " 'using': 2825,\n",
       " 'guns': 1197,\n",
       " 'powers': 2000,\n",
       " 'following': 1056,\n",
       " 'dumb': 806,\n",
       " 'plans': 1959,\n",
       " 'walking': 2879,\n",
       " 'theater': 2674,\n",
       " 'b': 232,\n",
       " 'direct': 734,\n",
       " 'category': 413,\n",
       " 'theatrical': 2677,\n",
       " 'release': 2149,\n",
       " 'amateur': 127,\n",
       " 'forgot': 1073,\n",
       " 'teeth': 2652,\n",
       " '30': 26,\n",
       " 'minute': 1719,\n",
       " 'couple': 587,\n",
       " 'dad': 638,\n",
       " 'forget': 1070,\n",
       " 'uncle': 2789,\n",
       " 'faces': 946,\n",
       " 'everybody': 892,\n",
       " 'adventures': 91,\n",
       " 'bunch': 364,\n",
       " 'build': 361,\n",
       " 'house': 1310,\n",
       " 'bore': 314,\n",
       " 'tears': 2639,\n",
       " 'normally': 1815,\n",
       " 'james': 1419,\n",
       " 'rings': 2209,\n",
       " 'twice': 2773,\n",
       " 'familiar': 966,\n",
       " 'book': 312,\n",
       " 'versions': 2842,\n",
       " 'double': 769,\n",
       " 'similar': 2381,\n",
       " 'affair': 93,\n",
       " 'weak': 2909,\n",
       " 'husband': 1323,\n",
       " 'italian': 1413,\n",
       " 'played': 1962,\n",
       " 'spoiled': 2467,\n",
       " 'cruel': 624,\n",
       " 'shows': 2370,\n",
       " 'takes': 2620,\n",
       " 'bed': 264,\n",
       " 'forever': 1069,\n",
       " 'stuck': 2544,\n",
       " 'break': 332,\n",
       " 'meet': 1679,\n",
       " 'murder': 1766,\n",
       " 'bar': 243,\n",
       " 'want': 2884,\n",
       " 'sit': 2394,\n",
       " 'complex': 532,\n",
       " 'figure': 1012,\n",
       " 'point': 1975,\n",
       " 'brothers': 353,\n",
       " 'camera': 382,\n",
       " 'brilliantly': 342,\n",
       " 'need': 1795,\n",
       " 'named': 1777,\n",
       " 'meets': 1681,\n",
       " 'begins': 269,\n",
       " 'shocking': 2356,\n",
       " 'absolutely': 47,\n",
       " '9': 41,\n",
       " 'tv': 2772,\n",
       " 'bob': 307,\n",
       " 'girlfriend': 1138,\n",
       " 'married': 1650,\n",
       " 'works': 2969,\n",
       " 'accident': 56,\n",
       " 'haven': 1234,\n",
       " 'lonely': 1585,\n",
       " 'looked': 1589,\n",
       " 'wedding': 2916,\n",
       " 'making': 1639,\n",
       " 'tiny': 2708,\n",
       " 'car': 392,\n",
       " 'poor': 1982,\n",
       " 'sorry': 2437,\n",
       " 'ended': 846,\n",
       " 'guide': 1194,\n",
       " 'fox': 1082,\n",
       " 'air': 106,\n",
       " 'loved': 1608,\n",
       " 'hilarious': 1270,\n",
       " 'reading': 2111,\n",
       " 'logic': 1583,\n",
       " 'compelling': 527,\n",
       " 'entry': 869,\n",
       " 'stands': 2481,\n",
       " 'creepy': 612,\n",
       " 'solid': 2428,\n",
       " 'effects': 829,\n",
       " 'terror': 2666,\n",
       " 'spite': 2464,\n",
       " 'hey': 1261,\n",
       " 'adults': 88,\n",
       " 'refreshing': 2137,\n",
       " 'line': 1566,\n",
       " 'amazingly': 131,\n",
       " 'abandoned': 43,\n",
       " 'ignore': 1332,\n",
       " 'danger': 644,\n",
       " 'supernatural': 2590,\n",
       " 'atmosphere': 202,\n",
       " 'ray': 2107,\n",
       " 'plane': 1957,\n",
       " 'pilot': 1950,\n",
       " 'daughter': 653,\n",
       " 'millions': 1711,\n",
       " 'heavy': 1249,\n",
       " 'box': 324,\n",
       " 'holds': 1283,\n",
       " 'ground': 1183,\n",
       " 'murdered': 1767,\n",
       " 'surrounded': 2605,\n",
       " 'wooden': 2962,\n",
       " 'warning': 2893,\n",
       " 'sign': 2375,\n",
       " 'inside': 1376,\n",
       " 'listen': 1570,\n",
       " 'thoughts': 2690,\n",
       " 'walks': 2880,\n",
       " 'key': 1465,\n",
       " 'truck': 2759,\n",
       " 'flying': 1049,\n",
       " 'door': 768,\n",
       " 'screen': 2288,\n",
       " 'loud': 1603,\n",
       " 'helps': 1256,\n",
       " 'gives': 1141,\n",
       " 'saying': 2269,\n",
       " 'gas': 1116,\n",
       " 'today': 2712,\n",
       " ...}"
      ]
     },
     "execution_count": 22,
     "metadata": {},
     "output_type": "execute_result"
    }
   ],
   "source": [
    "cv.vocabulary_"
   ]
  },
  {
   "cell_type": "code",
   "execution_count": 23,
   "id": "b91efa8f",
   "metadata": {},
   "outputs": [
    {
     "data": {
      "text/plain": [
       "(10000, 3000)"
      ]
     },
     "execution_count": 23,
     "metadata": {},
     "output_type": "execute_result"
    }
   ],
   "source": [
    "X_test_vect= cv.transform(X_test)\n",
    "X_test_vect.shape"
   ]
  },
  {
   "cell_type": "markdown",
   "id": "45def8dc",
   "metadata": {},
   "source": [
    "### Importing VADER Lexicon Sentiment Analyzer"
   ]
  },
  {
   "cell_type": "code",
   "execution_count": 24,
   "id": "825af71d",
   "metadata": {},
   "outputs": [
    {
     "name": "stderr",
     "output_type": "stream",
     "text": [
      "[nltk_data] Downloading package vader_lexicon to\n",
      "[nltk_data]     C:\\Users\\dipti\\AppData\\Roaming\\nltk_data...\n",
      "[nltk_data]   Package vader_lexicon is already up-to-date!\n"
     ]
    },
    {
     "data": {
      "text/plain": [
       "True"
      ]
     },
     "execution_count": 24,
     "metadata": {},
     "output_type": "execute_result"
    }
   ],
   "source": [
    "import nltk\n",
    "from nltk.sentiment.vader import SentimentIntensityAnalyzer\n",
    "nltk.download('vader_lexicon')"
   ]
  },
  {
   "cell_type": "code",
   "execution_count": 25,
   "id": "f22acd66",
   "metadata": {},
   "outputs": [
    {
     "data": {
      "text/html": [
       "<div>\n",
       "<style scoped>\n",
       "    .dataframe tbody tr th:only-of-type {\n",
       "        vertical-align: middle;\n",
       "    }\n",
       "\n",
       "    .dataframe tbody tr th {\n",
       "        vertical-align: top;\n",
       "    }\n",
       "\n",
       "    .dataframe thead th {\n",
       "        text-align: right;\n",
       "    }\n",
       "</style>\n",
       "<table border=\"1\" class=\"dataframe\">\n",
       "  <thead>\n",
       "    <tr style=\"text-align: right;\">\n",
       "      <th></th>\n",
       "      <th>review</th>\n",
       "      <th>sentiment</th>\n",
       "      <th>processed</th>\n",
       "      <th>polarity</th>\n",
       "      <th>compound</th>\n",
       "      <th>label</th>\n",
       "    </tr>\n",
       "  </thead>\n",
       "  <tbody>\n",
       "    <tr>\n",
       "      <th>0</th>\n",
       "      <td>One of the other reviewers has mentioned that ...</td>\n",
       "      <td>positive</td>\n",
       "      <td>reviewer mention watch 1 oz episode hook . rig...</td>\n",
       "      <td>{'neg': 0.203, 'neu': 0.748, 'pos': 0.048, 'co...</td>\n",
       "      <td>-0.9951</td>\n",
       "      <td>Negative</td>\n",
       "    </tr>\n",
       "    <tr>\n",
       "      <th>1</th>\n",
       "      <td>A wonderful little production. &lt;br /&gt;&lt;br /&gt;The...</td>\n",
       "      <td>positive</td>\n",
       "      <td>wonderful little production . &lt; br /&gt;&lt;br /&gt;the...</td>\n",
       "      <td>{'neg': 0.053, 'neu': 0.776, 'pos': 0.172, 'co...</td>\n",
       "      <td>0.9641</td>\n",
       "      <td>Positive</td>\n",
       "    </tr>\n",
       "    <tr>\n",
       "      <th>2</th>\n",
       "      <td>I thought this was a wonderful way to spend ti...</td>\n",
       "      <td>positive</td>\n",
       "      <td>think wonderful way spend time hot summer week...</td>\n",
       "      <td>{'neg': 0.094, 'neu': 0.714, 'pos': 0.192, 'co...</td>\n",
       "      <td>0.9605</td>\n",
       "      <td>Positive</td>\n",
       "    </tr>\n",
       "    <tr>\n",
       "      <th>3</th>\n",
       "      <td>Basically there's a family where a little boy ...</td>\n",
       "      <td>negative</td>\n",
       "      <td>basically family little boy ( jake ) think zom...</td>\n",
       "      <td>{'neg': 0.138, 'neu': 0.797, 'pos': 0.065, 'co...</td>\n",
       "      <td>-0.9213</td>\n",
       "      <td>Negative</td>\n",
       "    </tr>\n",
       "    <tr>\n",
       "      <th>4</th>\n",
       "      <td>Petter Mattei's \"Love in the Time of Money\" is...</td>\n",
       "      <td>positive</td>\n",
       "      <td>petter mattei \" love time money \" visually stu...</td>\n",
       "      <td>{'neg': 0.052, 'neu': 0.801, 'pos': 0.147, 'co...</td>\n",
       "      <td>0.9744</td>\n",
       "      <td>Positive</td>\n",
       "    </tr>\n",
       "    <tr>\n",
       "      <th>...</th>\n",
       "      <td>...</td>\n",
       "      <td>...</td>\n",
       "      <td>...</td>\n",
       "      <td>...</td>\n",
       "      <td>...</td>\n",
       "      <td>...</td>\n",
       "    </tr>\n",
       "    <tr>\n",
       "      <th>49995</th>\n",
       "      <td>I thought this movie did a down right good job...</td>\n",
       "      <td>positive</td>\n",
       "      <td>think movie right good job . creative original...</td>\n",
       "      <td>{'neg': 0.047, 'neu': 0.753, 'pos': 0.199, 'co...</td>\n",
       "      <td>0.9890</td>\n",
       "      <td>Positive</td>\n",
       "    </tr>\n",
       "    <tr>\n",
       "      <th>49996</th>\n",
       "      <td>Bad plot, bad dialogue, bad acting, idiotic di...</td>\n",
       "      <td>negative</td>\n",
       "      <td>bad plot , bad dialogue , bad acting , idiotic...</td>\n",
       "      <td>{'neg': 0.166, 'neu': 0.72, 'pos': 0.114, 'com...</td>\n",
       "      <td>-0.6693</td>\n",
       "      <td>Negative</td>\n",
       "    </tr>\n",
       "    <tr>\n",
       "      <th>49997</th>\n",
       "      <td>I am a Catholic taught in parochial elementary...</td>\n",
       "      <td>negative</td>\n",
       "      <td>catholic teach parochial elementary school nun...</td>\n",
       "      <td>{'neg': 0.208, 'neu': 0.683, 'pos': 0.108, 'co...</td>\n",
       "      <td>-0.9851</td>\n",
       "      <td>Negative</td>\n",
       "    </tr>\n",
       "    <tr>\n",
       "      <th>49998</th>\n",
       "      <td>I'm going to have to disagree with the previou...</td>\n",
       "      <td>negative</td>\n",
       "      <td>go disagree previous comment maltin . second r...</td>\n",
       "      <td>{'neg': 0.105, 'neu': 0.813, 'pos': 0.082, 'co...</td>\n",
       "      <td>-0.7648</td>\n",
       "      <td>Negative</td>\n",
       "    </tr>\n",
       "    <tr>\n",
       "      <th>49999</th>\n",
       "      <td>No one expects the Star Trek movies to be high...</td>\n",
       "      <td>negative</td>\n",
       "      <td>expect star trek movie high art , fan expect m...</td>\n",
       "      <td>{'neg': 0.135, 'neu': 0.723, 'pos': 0.141, 'co...</td>\n",
       "      <td>0.4329</td>\n",
       "      <td>Positive</td>\n",
       "    </tr>\n",
       "  </tbody>\n",
       "</table>\n",
       "<p>50000 rows × 6 columns</p>\n",
       "</div>"
      ],
      "text/plain": [
       "                                                  review sentiment  \\\n",
       "0      One of the other reviewers has mentioned that ...  positive   \n",
       "1      A wonderful little production. <br /><br />The...  positive   \n",
       "2      I thought this was a wonderful way to spend ti...  positive   \n",
       "3      Basically there's a family where a little boy ...  negative   \n",
       "4      Petter Mattei's \"Love in the Time of Money\" is...  positive   \n",
       "...                                                  ...       ...   \n",
       "49995  I thought this movie did a down right good job...  positive   \n",
       "49996  Bad plot, bad dialogue, bad acting, idiotic di...  negative   \n",
       "49997  I am a Catholic taught in parochial elementary...  negative   \n",
       "49998  I'm going to have to disagree with the previou...  negative   \n",
       "49999  No one expects the Star Trek movies to be high...  negative   \n",
       "\n",
       "                                               processed  \\\n",
       "0      reviewer mention watch 1 oz episode hook . rig...   \n",
       "1      wonderful little production . < br /><br />the...   \n",
       "2      think wonderful way spend time hot summer week...   \n",
       "3      basically family little boy ( jake ) think zom...   \n",
       "4      petter mattei \" love time money \" visually stu...   \n",
       "...                                                  ...   \n",
       "49995  think movie right good job . creative original...   \n",
       "49996  bad plot , bad dialogue , bad acting , idiotic...   \n",
       "49997  catholic teach parochial elementary school nun...   \n",
       "49998  go disagree previous comment maltin . second r...   \n",
       "49999  expect star trek movie high art , fan expect m...   \n",
       "\n",
       "                                                polarity  compound     label  \n",
       "0      {'neg': 0.203, 'neu': 0.748, 'pos': 0.048, 'co...   -0.9951  Negative  \n",
       "1      {'neg': 0.053, 'neu': 0.776, 'pos': 0.172, 'co...    0.9641  Positive  \n",
       "2      {'neg': 0.094, 'neu': 0.714, 'pos': 0.192, 'co...    0.9605  Positive  \n",
       "3      {'neg': 0.138, 'neu': 0.797, 'pos': 0.065, 'co...   -0.9213  Negative  \n",
       "4      {'neg': 0.052, 'neu': 0.801, 'pos': 0.147, 'co...    0.9744  Positive  \n",
       "...                                                  ...       ...       ...  \n",
       "49995  {'neg': 0.047, 'neu': 0.753, 'pos': 0.199, 'co...    0.9890  Positive  \n",
       "49996  {'neg': 0.166, 'neu': 0.72, 'pos': 0.114, 'com...   -0.6693  Negative  \n",
       "49997  {'neg': 0.208, 'neu': 0.683, 'pos': 0.108, 'co...   -0.9851  Negative  \n",
       "49998  {'neg': 0.105, 'neu': 0.813, 'pos': 0.082, 'co...   -0.7648  Negative  \n",
       "49999  {'neg': 0.135, 'neu': 0.723, 'pos': 0.141, 'co...    0.4329  Positive  \n",
       "\n",
       "[50000 rows x 6 columns]"
      ]
     },
     "execution_count": 25,
     "metadata": {},
     "output_type": "execute_result"
    }
   ],
   "source": [
    "analyzer = SentimentIntensityAnalyzer()\n",
    "data['polarity'] = data['review'].apply(lambda x: analyzer.polarity_scores(x))\n",
    "data"
   ]
  },
  {
   "cell_type": "code",
   "execution_count": 11,
   "id": "92b16c06",
   "metadata": {},
   "outputs": [],
   "source": [
    "#data.to_csv('IMDBsentiment_analysis_output.csv')"
   ]
  },
  {
   "cell_type": "code",
   "execution_count": 26,
   "id": "345e1151",
   "metadata": {},
   "outputs": [],
   "source": [
    "data['compound'] = data['polarity'].apply(lambda x: x.get('compound'))"
   ]
  },
  {
   "cell_type": "code",
   "execution_count": 27,
   "id": "0f0711ca",
   "metadata": {},
   "outputs": [],
   "source": [
    "# Define a function to map the sentiment score to a sentiment category\n",
    "def map_sentiment(score):\n",
    "    if score <= -0.05:\n",
    "        return 'Negative'\n",
    "    elif score >-0.05 and score<0.05:\n",
    "        return 'Neutral'\n",
    "    elif score>=0.05:\n",
    "        return 'Positive'\n",
    "data['label'] = data['compound'].apply(map_sentiment)"
   ]
  },
  {
   "cell_type": "code",
   "execution_count": 28,
   "id": "dcf5f27e",
   "metadata": {},
   "outputs": [
    {
     "data": {
      "text/html": [
       "<div>\n",
       "<style scoped>\n",
       "    .dataframe tbody tr th:only-of-type {\n",
       "        vertical-align: middle;\n",
       "    }\n",
       "\n",
       "    .dataframe tbody tr th {\n",
       "        vertical-align: top;\n",
       "    }\n",
       "\n",
       "    .dataframe thead th {\n",
       "        text-align: right;\n",
       "    }\n",
       "</style>\n",
       "<table border=\"1\" class=\"dataframe\">\n",
       "  <thead>\n",
       "    <tr style=\"text-align: right;\">\n",
       "      <th></th>\n",
       "      <th>review</th>\n",
       "      <th>sentiment</th>\n",
       "      <th>processed</th>\n",
       "      <th>polarity</th>\n",
       "      <th>compound</th>\n",
       "      <th>label</th>\n",
       "    </tr>\n",
       "  </thead>\n",
       "  <tbody>\n",
       "    <tr>\n",
       "      <th>0</th>\n",
       "      <td>One of the other reviewers has mentioned that ...</td>\n",
       "      <td>positive</td>\n",
       "      <td>reviewer mention watch 1 oz episode hook . rig...</td>\n",
       "      <td>{'neg': 0.203, 'neu': 0.748, 'pos': 0.048, 'co...</td>\n",
       "      <td>-0.9951</td>\n",
       "      <td>Negative</td>\n",
       "    </tr>\n",
       "    <tr>\n",
       "      <th>1</th>\n",
       "      <td>A wonderful little production. &lt;br /&gt;&lt;br /&gt;The...</td>\n",
       "      <td>positive</td>\n",
       "      <td>wonderful little production . &lt; br /&gt;&lt;br /&gt;the...</td>\n",
       "      <td>{'neg': 0.053, 'neu': 0.776, 'pos': 0.172, 'co...</td>\n",
       "      <td>0.9641</td>\n",
       "      <td>Positive</td>\n",
       "    </tr>\n",
       "    <tr>\n",
       "      <th>2</th>\n",
       "      <td>I thought this was a wonderful way to spend ti...</td>\n",
       "      <td>positive</td>\n",
       "      <td>think wonderful way spend time hot summer week...</td>\n",
       "      <td>{'neg': 0.094, 'neu': 0.714, 'pos': 0.192, 'co...</td>\n",
       "      <td>0.9605</td>\n",
       "      <td>Positive</td>\n",
       "    </tr>\n",
       "    <tr>\n",
       "      <th>3</th>\n",
       "      <td>Basically there's a family where a little boy ...</td>\n",
       "      <td>negative</td>\n",
       "      <td>basically family little boy ( jake ) think zom...</td>\n",
       "      <td>{'neg': 0.138, 'neu': 0.797, 'pos': 0.065, 'co...</td>\n",
       "      <td>-0.9213</td>\n",
       "      <td>Negative</td>\n",
       "    </tr>\n",
       "    <tr>\n",
       "      <th>4</th>\n",
       "      <td>Petter Mattei's \"Love in the Time of Money\" is...</td>\n",
       "      <td>positive</td>\n",
       "      <td>petter mattei \" love time money \" visually stu...</td>\n",
       "      <td>{'neg': 0.052, 'neu': 0.801, 'pos': 0.147, 'co...</td>\n",
       "      <td>0.9744</td>\n",
       "      <td>Positive</td>\n",
       "    </tr>\n",
       "    <tr>\n",
       "      <th>...</th>\n",
       "      <td>...</td>\n",
       "      <td>...</td>\n",
       "      <td>...</td>\n",
       "      <td>...</td>\n",
       "      <td>...</td>\n",
       "      <td>...</td>\n",
       "    </tr>\n",
       "    <tr>\n",
       "      <th>49995</th>\n",
       "      <td>I thought this movie did a down right good job...</td>\n",
       "      <td>positive</td>\n",
       "      <td>think movie right good job . creative original...</td>\n",
       "      <td>{'neg': 0.047, 'neu': 0.753, 'pos': 0.199, 'co...</td>\n",
       "      <td>0.9890</td>\n",
       "      <td>Positive</td>\n",
       "    </tr>\n",
       "    <tr>\n",
       "      <th>49996</th>\n",
       "      <td>Bad plot, bad dialogue, bad acting, idiotic di...</td>\n",
       "      <td>negative</td>\n",
       "      <td>bad plot , bad dialogue , bad acting , idiotic...</td>\n",
       "      <td>{'neg': 0.166, 'neu': 0.72, 'pos': 0.114, 'com...</td>\n",
       "      <td>-0.6693</td>\n",
       "      <td>Negative</td>\n",
       "    </tr>\n",
       "    <tr>\n",
       "      <th>49997</th>\n",
       "      <td>I am a Catholic taught in parochial elementary...</td>\n",
       "      <td>negative</td>\n",
       "      <td>catholic teach parochial elementary school nun...</td>\n",
       "      <td>{'neg': 0.208, 'neu': 0.683, 'pos': 0.108, 'co...</td>\n",
       "      <td>-0.9851</td>\n",
       "      <td>Negative</td>\n",
       "    </tr>\n",
       "    <tr>\n",
       "      <th>49998</th>\n",
       "      <td>I'm going to have to disagree with the previou...</td>\n",
       "      <td>negative</td>\n",
       "      <td>go disagree previous comment maltin . second r...</td>\n",
       "      <td>{'neg': 0.105, 'neu': 0.813, 'pos': 0.082, 'co...</td>\n",
       "      <td>-0.7648</td>\n",
       "      <td>Negative</td>\n",
       "    </tr>\n",
       "    <tr>\n",
       "      <th>49999</th>\n",
       "      <td>No one expects the Star Trek movies to be high...</td>\n",
       "      <td>negative</td>\n",
       "      <td>expect star trek movie high art , fan expect m...</td>\n",
       "      <td>{'neg': 0.135, 'neu': 0.723, 'pos': 0.141, 'co...</td>\n",
       "      <td>0.4329</td>\n",
       "      <td>Positive</td>\n",
       "    </tr>\n",
       "  </tbody>\n",
       "</table>\n",
       "<p>50000 rows × 6 columns</p>\n",
       "</div>"
      ],
      "text/plain": [
       "                                                  review sentiment  \\\n",
       "0      One of the other reviewers has mentioned that ...  positive   \n",
       "1      A wonderful little production. <br /><br />The...  positive   \n",
       "2      I thought this was a wonderful way to spend ti...  positive   \n",
       "3      Basically there's a family where a little boy ...  negative   \n",
       "4      Petter Mattei's \"Love in the Time of Money\" is...  positive   \n",
       "...                                                  ...       ...   \n",
       "49995  I thought this movie did a down right good job...  positive   \n",
       "49996  Bad plot, bad dialogue, bad acting, idiotic di...  negative   \n",
       "49997  I am a Catholic taught in parochial elementary...  negative   \n",
       "49998  I'm going to have to disagree with the previou...  negative   \n",
       "49999  No one expects the Star Trek movies to be high...  negative   \n",
       "\n",
       "                                               processed  \\\n",
       "0      reviewer mention watch 1 oz episode hook . rig...   \n",
       "1      wonderful little production . < br /><br />the...   \n",
       "2      think wonderful way spend time hot summer week...   \n",
       "3      basically family little boy ( jake ) think zom...   \n",
       "4      petter mattei \" love time money \" visually stu...   \n",
       "...                                                  ...   \n",
       "49995  think movie right good job . creative original...   \n",
       "49996  bad plot , bad dialogue , bad acting , idiotic...   \n",
       "49997  catholic teach parochial elementary school nun...   \n",
       "49998  go disagree previous comment maltin . second r...   \n",
       "49999  expect star trek movie high art , fan expect m...   \n",
       "\n",
       "                                                polarity  compound     label  \n",
       "0      {'neg': 0.203, 'neu': 0.748, 'pos': 0.048, 'co...   -0.9951  Negative  \n",
       "1      {'neg': 0.053, 'neu': 0.776, 'pos': 0.172, 'co...    0.9641  Positive  \n",
       "2      {'neg': 0.094, 'neu': 0.714, 'pos': 0.192, 'co...    0.9605  Positive  \n",
       "3      {'neg': 0.138, 'neu': 0.797, 'pos': 0.065, 'co...   -0.9213  Negative  \n",
       "4      {'neg': 0.052, 'neu': 0.801, 'pos': 0.147, 'co...    0.9744  Positive  \n",
       "...                                                  ...       ...       ...  \n",
       "49995  {'neg': 0.047, 'neu': 0.753, 'pos': 0.199, 'co...    0.9890  Positive  \n",
       "49996  {'neg': 0.166, 'neu': 0.72, 'pos': 0.114, 'com...   -0.6693  Negative  \n",
       "49997  {'neg': 0.208, 'neu': 0.683, 'pos': 0.108, 'co...   -0.9851  Negative  \n",
       "49998  {'neg': 0.105, 'neu': 0.813, 'pos': 0.082, 'co...   -0.7648  Negative  \n",
       "49999  {'neg': 0.135, 'neu': 0.723, 'pos': 0.141, 'co...    0.4329  Positive  \n",
       "\n",
       "[50000 rows x 6 columns]"
      ]
     },
     "execution_count": 28,
     "metadata": {},
     "output_type": "execute_result"
    }
   ],
   "source": [
    "data"
   ]
  },
  {
   "cell_type": "markdown",
   "id": "fbe7193a",
   "metadata": {},
   "source": [
    "### Naive Bayes Classification"
   ]
  },
  {
   "cell_type": "code",
   "execution_count": 30,
   "id": "77e216d4",
   "metadata": {},
   "outputs": [
    {
     "data": {
      "text/plain": [
       "MultinomialNB()"
      ]
     },
     "execution_count": 30,
     "metadata": {},
     "output_type": "execute_result"
    }
   ],
   "source": [
    "#Training the model\n",
    "from sklearn.naive_bayes import MultinomialNB\n",
    "MNB = MultinomialNB()\n",
    "MNB.fit(X_train_vect, Y_train)"
   ]
  },
  {
   "cell_type": "code",
   "execution_count": 31,
   "id": "990e09ba",
   "metadata": {},
   "outputs": [
    {
     "name": "stdout",
     "output_type": "stream",
     "text": [
      "              precision    recall  f1-score   support\n",
      "\n",
      "           0       0.85      0.86      0.86      4900\n",
      "           1       0.87      0.85      0.86      5100\n",
      "\n",
      "    accuracy                           0.86     10000\n",
      "   macro avg       0.86      0.86      0.86     10000\n",
      "weighted avg       0.86      0.86      0.86     10000\n",
      "\n"
     ]
    }
   ],
   "source": [
    "#Evaluate the performance of the model\n",
    "from sklearn import metrics\n",
    "predicted = MNB.predict(X_test_vect)\n",
    "performance = metrics.classification_report(Y_test,predicted, target_names= ['0', '1'])\n",
    "print(performance)"
   ]
  },
  {
   "cell_type": "markdown",
   "id": "d731c573",
   "metadata": {},
   "source": [
    "### SVM"
   ]
  },
  {
   "cell_type": "code",
   "execution_count": 33,
   "id": "5face560",
   "metadata": {},
   "outputs": [
    {
     "data": {
      "text/plain": [
       "SVC()"
      ]
     },
     "execution_count": 33,
     "metadata": {},
     "output_type": "execute_result"
    }
   ],
   "source": [
    "from sklearn import svm\n",
    "clf = svm.SVC()\n",
    "clf.fit(X_train_vect, Y_train)"
   ]
  },
  {
   "cell_type": "code",
   "execution_count": 34,
   "id": "6932e4fa",
   "metadata": {},
   "outputs": [
    {
     "name": "stdout",
     "output_type": "stream",
     "text": [
      "              precision    recall  f1-score   support\n",
      "\n",
      "           0       0.90      0.88      0.89      4900\n",
      "           1       0.89      0.91      0.90      5100\n",
      "\n",
      "    accuracy                           0.89     10000\n",
      "   macro avg       0.89      0.89      0.89     10000\n",
      "weighted avg       0.89      0.89      0.89     10000\n",
      "\n"
     ]
    }
   ],
   "source": [
    "from sklearn import metrics\n",
    "predicted = clf.predict(X_test_vect)\n",
    "performance = metrics.classification_report(Y_test, predicted, target_names= ['0', '1'])\n",
    "print(performance)"
   ]
  },
  {
   "cell_type": "markdown",
   "id": "913b9bc1",
   "metadata": {},
   "source": [
    "### TFIDF "
   ]
  },
  {
   "cell_type": "code",
   "execution_count": 39,
   "id": "19ff7b33",
   "metadata": {},
   "outputs": [
    {
     "data": {
      "text/plain": [
       "(40000, 800)"
      ]
     },
     "execution_count": 39,
     "metadata": {},
     "output_type": "execute_result"
    }
   ],
   "source": [
    "from sklearn.feature_extraction.text import TfidfVectorizer\n",
    "from nltk.tokenize import RegexpTokenizer\n",
    "token = RegexpTokenizer(r'[a-zA-Z0-9]+')\n",
    "vectorizer = TfidfVectorizer(stop_words='english',ngram_range = (1,1),tokenizer = token.tokenize, max_features = 800)\n",
    "X_train_tfidf = vectorizer.fit_transform(X_train)\n",
    "X_train_tfidf.shape"
   ]
  },
  {
   "cell_type": "code",
   "execution_count": 40,
   "id": "50bf643b",
   "metadata": {},
   "outputs": [
    {
     "name": "stderr",
     "output_type": "stream",
     "text": [
      "C:\\Users\\dipti\\anaconda3\\lib\\site-packages\\sklearn\\utils\\deprecation.py:87: FutureWarning: Function get_feature_names is deprecated; get_feature_names is deprecated in 1.0 and will be removed in 1.2. Please use get_feature_names_out instead.\n",
      "  warnings.warn(msg, category=FutureWarning)\n"
     ]
    },
    {
     "data": {
      "text/html": [
       "<div>\n",
       "<style scoped>\n",
       "    .dataframe tbody tr th:only-of-type {\n",
       "        vertical-align: middle;\n",
       "    }\n",
       "\n",
       "    .dataframe tbody tr th {\n",
       "        vertical-align: top;\n",
       "    }\n",
       "\n",
       "    .dataframe thead th {\n",
       "        text-align: right;\n",
       "    }\n",
       "</style>\n",
       "<table border=\"1\" class=\"dataframe\">\n",
       "  <thead>\n",
       "    <tr style=\"text-align: right;\">\n",
       "      <th></th>\n",
       "      <th>1</th>\n",
       "      <th>10</th>\n",
       "      <th>2</th>\n",
       "      <th>20</th>\n",
       "      <th>3</th>\n",
       "      <th>30</th>\n",
       "      <th>4</th>\n",
       "      <th>5</th>\n",
       "      <th>6</th>\n",
       "      <th>7</th>\n",
       "      <th>...</th>\n",
       "      <th>writers</th>\n",
       "      <th>writing</th>\n",
       "      <th>written</th>\n",
       "      <th>wrong</th>\n",
       "      <th>year</th>\n",
       "      <th>years</th>\n",
       "      <th>yes</th>\n",
       "      <th>york</th>\n",
       "      <th>young</th>\n",
       "      <th>zombie</th>\n",
       "    </tr>\n",
       "  </thead>\n",
       "  <tbody>\n",
       "    <tr>\n",
       "      <th>0</th>\n",
       "      <td>0.000000</td>\n",
       "      <td>0.000000</td>\n",
       "      <td>0.000000</td>\n",
       "      <td>0.0</td>\n",
       "      <td>0.000000</td>\n",
       "      <td>0.0</td>\n",
       "      <td>0.000000</td>\n",
       "      <td>0.000000</td>\n",
       "      <td>0.000000</td>\n",
       "      <td>0.0</td>\n",
       "      <td>...</td>\n",
       "      <td>0.0</td>\n",
       "      <td>0.0</td>\n",
       "      <td>0.000000</td>\n",
       "      <td>0.000000</td>\n",
       "      <td>0.000000</td>\n",
       "      <td>0.000000</td>\n",
       "      <td>0.00000</td>\n",
       "      <td>0.0</td>\n",
       "      <td>0.0</td>\n",
       "      <td>0.0</td>\n",
       "    </tr>\n",
       "    <tr>\n",
       "      <th>1</th>\n",
       "      <td>0.000000</td>\n",
       "      <td>0.000000</td>\n",
       "      <td>0.000000</td>\n",
       "      <td>0.0</td>\n",
       "      <td>0.000000</td>\n",
       "      <td>0.0</td>\n",
       "      <td>0.000000</td>\n",
       "      <td>0.000000</td>\n",
       "      <td>0.000000</td>\n",
       "      <td>0.0</td>\n",
       "      <td>...</td>\n",
       "      <td>0.0</td>\n",
       "      <td>0.0</td>\n",
       "      <td>0.000000</td>\n",
       "      <td>0.000000</td>\n",
       "      <td>0.000000</td>\n",
       "      <td>0.000000</td>\n",
       "      <td>0.00000</td>\n",
       "      <td>0.0</td>\n",
       "      <td>0.0</td>\n",
       "      <td>0.0</td>\n",
       "    </tr>\n",
       "    <tr>\n",
       "      <th>2</th>\n",
       "      <td>0.047737</td>\n",
       "      <td>0.039139</td>\n",
       "      <td>0.044208</td>\n",
       "      <td>0.0</td>\n",
       "      <td>0.048772</td>\n",
       "      <td>0.0</td>\n",
       "      <td>0.052467</td>\n",
       "      <td>0.052902</td>\n",
       "      <td>0.000000</td>\n",
       "      <td>0.0</td>\n",
       "      <td>...</td>\n",
       "      <td>0.0</td>\n",
       "      <td>0.0</td>\n",
       "      <td>0.050492</td>\n",
       "      <td>0.049197</td>\n",
       "      <td>0.093737</td>\n",
       "      <td>0.000000</td>\n",
       "      <td>0.05167</td>\n",
       "      <td>0.0</td>\n",
       "      <td>0.0</td>\n",
       "      <td>0.0</td>\n",
       "    </tr>\n",
       "    <tr>\n",
       "      <th>3</th>\n",
       "      <td>0.000000</td>\n",
       "      <td>0.000000</td>\n",
       "      <td>0.000000</td>\n",
       "      <td>0.0</td>\n",
       "      <td>0.000000</td>\n",
       "      <td>0.0</td>\n",
       "      <td>0.000000</td>\n",
       "      <td>0.000000</td>\n",
       "      <td>0.157917</td>\n",
       "      <td>0.0</td>\n",
       "      <td>...</td>\n",
       "      <td>0.0</td>\n",
       "      <td>0.0</td>\n",
       "      <td>0.000000</td>\n",
       "      <td>0.000000</td>\n",
       "      <td>0.115493</td>\n",
       "      <td>0.094848</td>\n",
       "      <td>0.00000</td>\n",
       "      <td>0.0</td>\n",
       "      <td>0.0</td>\n",
       "      <td>0.0</td>\n",
       "    </tr>\n",
       "    <tr>\n",
       "      <th>4</th>\n",
       "      <td>0.000000</td>\n",
       "      <td>0.083970</td>\n",
       "      <td>0.000000</td>\n",
       "      <td>0.0</td>\n",
       "      <td>0.000000</td>\n",
       "      <td>0.0</td>\n",
       "      <td>0.000000</td>\n",
       "      <td>0.000000</td>\n",
       "      <td>0.000000</td>\n",
       "      <td>0.0</td>\n",
       "      <td>...</td>\n",
       "      <td>0.0</td>\n",
       "      <td>0.0</td>\n",
       "      <td>0.000000</td>\n",
       "      <td>0.000000</td>\n",
       "      <td>0.000000</td>\n",
       "      <td>0.000000</td>\n",
       "      <td>0.00000</td>\n",
       "      <td>0.0</td>\n",
       "      <td>0.0</td>\n",
       "      <td>0.0</td>\n",
       "    </tr>\n",
       "  </tbody>\n",
       "</table>\n",
       "<p>5 rows × 800 columns</p>\n",
       "</div>"
      ],
      "text/plain": [
       "          1        10         2   20         3   30         4         5  \\\n",
       "0  0.000000  0.000000  0.000000  0.0  0.000000  0.0  0.000000  0.000000   \n",
       "1  0.000000  0.000000  0.000000  0.0  0.000000  0.0  0.000000  0.000000   \n",
       "2  0.047737  0.039139  0.044208  0.0  0.048772  0.0  0.052467  0.052902   \n",
       "3  0.000000  0.000000  0.000000  0.0  0.000000  0.0  0.000000  0.000000   \n",
       "4  0.000000  0.083970  0.000000  0.0  0.000000  0.0  0.000000  0.000000   \n",
       "\n",
       "          6    7  ...  writers  writing   written     wrong      year  \\\n",
       "0  0.000000  0.0  ...      0.0      0.0  0.000000  0.000000  0.000000   \n",
       "1  0.000000  0.0  ...      0.0      0.0  0.000000  0.000000  0.000000   \n",
       "2  0.000000  0.0  ...      0.0      0.0  0.050492  0.049197  0.093737   \n",
       "3  0.157917  0.0  ...      0.0      0.0  0.000000  0.000000  0.115493   \n",
       "4  0.000000  0.0  ...      0.0      0.0  0.000000  0.000000  0.000000   \n",
       "\n",
       "      years      yes  york  young  zombie  \n",
       "0  0.000000  0.00000   0.0    0.0     0.0  \n",
       "1  0.000000  0.00000   0.0    0.0     0.0  \n",
       "2  0.000000  0.05167   0.0    0.0     0.0  \n",
       "3  0.094848  0.00000   0.0    0.0     0.0  \n",
       "4  0.000000  0.00000   0.0    0.0     0.0  \n",
       "\n",
       "[5 rows x 800 columns]"
      ]
     },
     "execution_count": 40,
     "metadata": {},
     "output_type": "execute_result"
    }
   ],
   "source": [
    "df = pd.DataFrame(X_train_tfidf.toarray(), columns=vectorizer.get_feature_names())\n",
    "df.head()"
   ]
  },
  {
   "cell_type": "code",
   "execution_count": 42,
   "id": "406bcdef",
   "metadata": {},
   "outputs": [
    {
     "data": {
      "text/plain": [
       "(10000, 800)"
      ]
     },
     "execution_count": 42,
     "metadata": {},
     "output_type": "execute_result"
    }
   ],
   "source": [
    "X_test_tfidf= vectorizer.transform(X_test)\n",
    "X_test_tfidf.shape"
   ]
  },
  {
   "cell_type": "markdown",
   "id": "7fbd3656",
   "metadata": {},
   "source": [
    "### Naive Bayes (TFIDF)"
   ]
  },
  {
   "cell_type": "code",
   "execution_count": 43,
   "id": "e0fe6de8",
   "metadata": {},
   "outputs": [
    {
     "name": "stdout",
     "output_type": "stream",
     "text": [
      "              precision    recall  f1-score   support\n",
      "\n",
      "           0       0.85      0.83      0.84      4900\n",
      "           1       0.84      0.86      0.85      5100\n",
      "\n",
      "    accuracy                           0.84     10000\n",
      "   macro avg       0.84      0.84      0.84     10000\n",
      "weighted avg       0.84      0.84      0.84     10000\n",
      "\n"
     ]
    }
   ],
   "source": [
    "MNB = MultinomialNB()\n",
    "MNB.fit(X_train_tfidf, Y_train)\n",
    "predicted = MNB.predict(X_test_tfidf)\n",
    "performance = metrics.classification_report(Y_test,predicted, target_names= ['0', '1'])\n",
    "print(performance)"
   ]
  },
  {
   "cell_type": "markdown",
   "id": "4e2c2735",
   "metadata": {},
   "source": [
    "### SVM"
   ]
  },
  {
   "cell_type": "code",
   "execution_count": 44,
   "id": "6c980867",
   "metadata": {},
   "outputs": [
    {
     "data": {
      "text/plain": [
       "SVC()"
      ]
     },
     "execution_count": 44,
     "metadata": {},
     "output_type": "execute_result"
    }
   ],
   "source": [
    "from sklearn import svm\n",
    "clf = svm.SVC()\n",
    "clf.fit(X_train_tfidf, Y_train)"
   ]
  },
  {
   "cell_type": "code",
   "execution_count": 46,
   "id": "1ba3b356",
   "metadata": {},
   "outputs": [
    {
     "name": "stdout",
     "output_type": "stream",
     "text": [
      "              precision    recall  f1-score   support\n",
      "\n",
      "           0       0.87      0.85      0.86      4900\n",
      "           1       0.86      0.88      0.87      5100\n",
      "\n",
      "    accuracy                           0.86     10000\n",
      "   macro avg       0.87      0.86      0.86     10000\n",
      "weighted avg       0.87      0.86      0.86     10000\n",
      "\n"
     ]
    }
   ],
   "source": [
    "from sklearn import metrics\n",
    "predicted = clf.predict(X_test_tfidf)\n",
    "performance = metrics.classification_report(Y_test,predicted, target_names= ['0', '1'])\n",
    "print(performance)"
   ]
  },
  {
   "cell_type": "markdown",
   "id": "ad75937f",
   "metadata": {},
   "source": [
    "### Bag of Words"
   ]
  },
  {
   "cell_type": "code",
   "execution_count": 47,
   "id": "784d44b0",
   "metadata": {},
   "outputs": [
    {
     "data": {
      "text/plain": [
       "(40000, 800)"
      ]
     },
     "execution_count": 47,
     "metadata": {},
     "output_type": "execute_result"
    }
   ],
   "source": [
    "from sklearn.feature_extraction.text import CountVectorizer\n",
    "from nltk.tokenize import RegexpTokenizer\n",
    "token = RegexpTokenizer(r'[a-zA-Z0-9]+')\n",
    "cv = CountVectorizer(stop_words='english',ngram_range = (1,1),tokenizer = token.tokenize, max_features = 800)\n",
    "X_train_vect = cv.fit_transform(X_train)\n",
    "X_train_vect.shape\n"
   ]
  },
  {
   "cell_type": "code",
   "execution_count": 48,
   "id": "b7311682",
   "metadata": {},
   "outputs": [
    {
     "data": {
      "text/plain": [
       "(10000, 800)"
      ]
     },
     "execution_count": 48,
     "metadata": {},
     "output_type": "execute_result"
    }
   ],
   "source": [
    "X_test_vect= cv.transform(X_test)\n",
    "X_test_vect.shape"
   ]
  },
  {
   "cell_type": "markdown",
   "id": "419578fe",
   "metadata": {},
   "source": [
    "### Naive Bayes (Count)"
   ]
  },
  {
   "cell_type": "code",
   "execution_count": 49,
   "id": "1b001a03",
   "metadata": {},
   "outputs": [
    {
     "name": "stdout",
     "output_type": "stream",
     "text": [
      "              precision    recall  f1-score   support\n",
      "\n",
      "           0       0.83      0.83      0.83      4900\n",
      "           1       0.83      0.84      0.84      5100\n",
      "\n",
      "    accuracy                           0.83     10000\n",
      "   macro avg       0.83      0.83      0.83     10000\n",
      "weighted avg       0.83      0.83      0.83     10000\n",
      "\n"
     ]
    }
   ],
   "source": [
    "MNB = MultinomialNB()\n",
    "MNB.fit(X_train_vect, Y_train)\n",
    "predicted = MNB.predict(X_test_vect)\n",
    "performance = metrics.classification_report(Y_test,predicted, target_names= ['0', '1'])\n",
    "print(performance)"
   ]
  },
  {
   "cell_type": "markdown",
   "id": "ec35e599",
   "metadata": {},
   "source": [
    "### SVM"
   ]
  },
  {
   "cell_type": "code",
   "execution_count": 50,
   "id": "4ec2bebe",
   "metadata": {},
   "outputs": [
    {
     "name": "stdout",
     "output_type": "stream",
     "text": [
      "              precision    recall  f1-score   support\n",
      "\n",
      "           0       0.87      0.84      0.86      4900\n",
      "           1       0.85      0.88      0.86      5100\n",
      "\n",
      "    accuracy                           0.86     10000\n",
      "   macro avg       0.86      0.86      0.86     10000\n",
      "weighted avg       0.86      0.86      0.86     10000\n",
      "\n"
     ]
    }
   ],
   "source": [
    "clf = svm.SVC()\n",
    "clf.fit(X_train_vect, Y_train)\n",
    "predicted = clf.predict(X_test_vect)\n",
    "performance = metrics.classification_report(Y_test,predicted, target_names= ['0', '1'])\n",
    "print(performance)"
   ]
  },
  {
   "cell_type": "markdown",
   "id": "0c290c61",
   "metadata": {},
   "source": [
    "### Bag of Words Binary"
   ]
  },
  {
   "cell_type": "code",
   "execution_count": 51,
   "id": "ce251d93",
   "metadata": {},
   "outputs": [
    {
     "data": {
      "text/plain": [
       "(40000, 800)"
      ]
     },
     "execution_count": 51,
     "metadata": {},
     "output_type": "execute_result"
    }
   ],
   "source": [
    "from sklearn.feature_extraction.text import CountVectorizer\n",
    "from nltk.tokenize import RegexpTokenizer\n",
    "token = RegexpTokenizer(r'[a-zA-Z0-9]+')\n",
    "cv = CountVectorizer(stop_words='english',ngram_range = (1,1),tokenizer = token.tokenize, max_features = 800, binary=True)\n",
    "X_train_binary = cv.fit_transform(X_train)\n",
    "X_train_binary.shape"
   ]
  },
  {
   "cell_type": "code",
   "execution_count": 52,
   "id": "e3d078cc",
   "metadata": {},
   "outputs": [
    {
     "data": {
      "text/plain": [
       "(10000, 800)"
      ]
     },
     "execution_count": 52,
     "metadata": {},
     "output_type": "execute_result"
    }
   ],
   "source": [
    "X_test_binary = cv.transform(X_test)\n",
    "X_test_binary.shape"
   ]
  },
  {
   "cell_type": "markdown",
   "id": "6ab60283",
   "metadata": {},
   "source": [
    "### Naive Bayes"
   ]
  },
  {
   "cell_type": "code",
   "execution_count": 53,
   "id": "b34eaf1e",
   "metadata": {},
   "outputs": [
    {
     "name": "stdout",
     "output_type": "stream",
     "text": [
      "              precision    recall  f1-score   support\n",
      "\n",
      "           0       0.84      0.83      0.84      4900\n",
      "           1       0.84      0.85      0.84      5100\n",
      "\n",
      "    accuracy                           0.84     10000\n",
      "   macro avg       0.84      0.84      0.84     10000\n",
      "weighted avg       0.84      0.84      0.84     10000\n",
      "\n"
     ]
    }
   ],
   "source": [
    "MNB = MultinomialNB()\n",
    "MNB.fit(X_train_binary, Y_train)\n",
    "predicted = MNB.predict(X_test_binary)\n",
    "performance = metrics.classification_report(Y_test,predicted, target_names= ['0', '1'])\n",
    "print(performance)"
   ]
  },
  {
   "cell_type": "markdown",
   "id": "e23145ee",
   "metadata": {},
   "source": [
    "### SVM"
   ]
  },
  {
   "cell_type": "code",
   "execution_count": 54,
   "id": "159c14c7",
   "metadata": {},
   "outputs": [
    {
     "name": "stdout",
     "output_type": "stream",
     "text": [
      "              precision    recall  f1-score   support\n",
      "\n",
      "           0       0.87      0.85      0.86      4900\n",
      "           1       0.86      0.88      0.87      5100\n",
      "\n",
      "    accuracy                           0.87     10000\n",
      "   macro avg       0.87      0.87      0.87     10000\n",
      "weighted avg       0.87      0.87      0.87     10000\n",
      "\n"
     ]
    }
   ],
   "source": [
    "clf = svm.SVC()\n",
    "clf.fit(X_train_binary, Y_train)\n",
    "predicted = clf.predict(X_test_binary)\n",
    "performance = metrics.classification_report(Y_test,predicted, target_names= ['0', '1'])\n",
    "print(performance)"
   ]
  },
  {
   "cell_type": "markdown",
   "id": "b328618e",
   "metadata": {},
   "source": [
    "## Evaluating the impact of the number of features "
   ]
  },
  {
   "cell_type": "markdown",
   "id": "50fad560",
   "metadata": {},
   "source": [
    "### 800 Features "
   ]
  },
  {
   "cell_type": "code",
   "execution_count": 55,
   "id": "1bdc1c5b",
   "metadata": {},
   "outputs": [],
   "source": [
    "from sklearn.feature_extraction.text import CountVectorizer\n",
    "from nltk.tokenize import RegexpTokenizer\n",
    "token = RegexpTokenizer(r'[a-zA-Z]+')\n",
    "cv = CountVectorizer(stop_words='english',ngram_range = (1,1),tokenizer = token.tokenize, max_features = 800)\n",
    "#cv = CountVectorizer(stop_words='english',ngram_range = (1,1),tokenizer = token.tokenize, max_features = 3000, binary = True)\n",
    "X_train_800 = cv.fit_transform(X_train)\n",
    "X_test_800= cv.transform(X_test)\n"
   ]
  },
  {
   "cell_type": "markdown",
   "id": "3059e870",
   "metadata": {},
   "source": [
    "### Naive Bayes"
   ]
  },
  {
   "cell_type": "code",
   "execution_count": 56,
   "id": "f54fd6f9",
   "metadata": {},
   "outputs": [
    {
     "name": "stdout",
     "output_type": "stream",
     "text": [
      "              precision    recall  f1-score   support\n",
      "\n",
      "           0       0.83      0.82      0.83      4900\n",
      "           1       0.83      0.84      0.83      5100\n",
      "\n",
      "    accuracy                           0.83     10000\n",
      "   macro avg       0.83      0.83      0.83     10000\n",
      "weighted avg       0.83      0.83      0.83     10000\n",
      "\n"
     ]
    }
   ],
   "source": [
    "from sklearn.naive_bayes import MultinomialNB\n",
    "from sklearn import metrics\n",
    "\n",
    "MNB = MultinomialNB()\n",
    "MNB.fit(X_train_800, Y_train)\n",
    "predicted = MNB.predict(X_test_800)\n",
    "performance = metrics.classification_report(Y_test,predicted, target_names= ['0', '1'])\n",
    "print(performance)"
   ]
  },
  {
   "cell_type": "markdown",
   "id": "21d08298",
   "metadata": {},
   "source": [
    "### SVM"
   ]
  },
  {
   "cell_type": "code",
   "execution_count": 57,
   "id": "bcc4c357",
   "metadata": {},
   "outputs": [
    {
     "name": "stdout",
     "output_type": "stream",
     "text": [
      "              precision    recall  f1-score   support\n",
      "\n",
      "           0       0.86      0.84      0.85      4900\n",
      "           1       0.85      0.87      0.86      5100\n",
      "\n",
      "    accuracy                           0.86     10000\n",
      "   macro avg       0.86      0.86      0.86     10000\n",
      "weighted avg       0.86      0.86      0.86     10000\n",
      "\n"
     ]
    }
   ],
   "source": [
    "from sklearn import svm\n",
    "clf = svm.SVC()\n",
    "clf.fit(X_train_800, Y_train)\n",
    "predicted = clf.predict(X_test_800)\n",
    "performance = metrics.classification_report(Y_test,predicted, target_names= ['0', '1'])\n",
    "print(performance)"
   ]
  },
  {
   "cell_type": "markdown",
   "id": "4339c51a",
   "metadata": {},
   "source": [
    "### 1000 Features"
   ]
  },
  {
   "cell_type": "code",
   "execution_count": 58,
   "id": "c27c02b5",
   "metadata": {},
   "outputs": [],
   "source": [
    "from sklearn.feature_extraction.text import CountVectorizer\n",
    "from nltk.tokenize import RegexpTokenizer\n",
    "token = RegexpTokenizer(r'[a-zA-Z]+')\n",
    "cv = CountVectorizer(stop_words='english',ngram_range = (1,1),tokenizer = token.tokenize, max_features = 1000)\n",
    "X_train_1k = cv.fit_transform(X_train)\n",
    "X_test_1k= cv.transform(X_test)"
   ]
  },
  {
   "cell_type": "markdown",
   "id": "93345505",
   "metadata": {},
   "source": [
    "### Naive Bayes"
   ]
  },
  {
   "cell_type": "code",
   "execution_count": 59,
   "id": "b709fcfc",
   "metadata": {},
   "outputs": [
    {
     "name": "stdout",
     "output_type": "stream",
     "text": [
      "              precision    recall  f1-score   support\n",
      "\n",
      "           0       0.83      0.83      0.83      4900\n",
      "           1       0.83      0.84      0.84      5100\n",
      "\n",
      "    accuracy                           0.83     10000\n",
      "   macro avg       0.83      0.83      0.83     10000\n",
      "weighted avg       0.83      0.83      0.83     10000\n",
      "\n"
     ]
    }
   ],
   "source": [
    "MNB = MultinomialNB()\n",
    "MNB.fit(X_train_1k, Y_train)\n",
    "predicted = MNB.predict(X_test_1k)\n",
    "performance = metrics.classification_report(Y_test,predicted, target_names= ['0', '1'])\n",
    "print(performance)"
   ]
  },
  {
   "cell_type": "markdown",
   "id": "a1e92be8",
   "metadata": {},
   "source": [
    "### SVM"
   ]
  },
  {
   "cell_type": "code",
   "execution_count": 60,
   "id": "419c0c2c",
   "metadata": {},
   "outputs": [
    {
     "name": "stdout",
     "output_type": "stream",
     "text": [
      "              precision    recall  f1-score   support\n",
      "\n",
      "           0       0.87      0.85      0.86      4900\n",
      "           1       0.86      0.88      0.87      5100\n",
      "\n",
      "    accuracy                           0.86     10000\n",
      "   macro avg       0.86      0.86      0.86     10000\n",
      "weighted avg       0.86      0.86      0.86     10000\n",
      "\n"
     ]
    }
   ],
   "source": [
    "from sklearn import svm\n",
    "clf = svm.SVC()\n",
    "clf.fit(X_train_1k, Y_train)\n",
    "predicted = clf.predict(X_test_1k)\n",
    "performance = metrics.classification_report(Y_test,predicted, target_names= ['0', '1'])\n",
    "print(performance)"
   ]
  },
  {
   "cell_type": "markdown",
   "id": "9ffb11fc",
   "metadata": {},
   "source": [
    "### 2000 Features"
   ]
  },
  {
   "cell_type": "code",
   "execution_count": 61,
   "id": "fd68043e",
   "metadata": {},
   "outputs": [],
   "source": [
    "from sklearn.feature_extraction.text import CountVectorizer\n",
    "from nltk.tokenize import RegexpTokenizer\n",
    "token = RegexpTokenizer(r'[a-zA-Z]+')\n",
    "cv = CountVectorizer(stop_words='english',ngram_range = (1,1),tokenizer = token.tokenize, max_features = 2000)\n",
    "X_train_2k = cv.fit_transform(X_train)\n",
    "X_test_2k= cv.transform(X_test)"
   ]
  },
  {
   "cell_type": "markdown",
   "id": "20d16187",
   "metadata": {},
   "source": [
    "### Naive Bayes"
   ]
  },
  {
   "cell_type": "code",
   "execution_count": 62,
   "id": "ad3a1916",
   "metadata": {},
   "outputs": [
    {
     "name": "stdout",
     "output_type": "stream",
     "text": [
      "              precision    recall  f1-score   support\n",
      "\n",
      "           0       0.83      0.84      0.84      4900\n",
      "           1       0.85      0.84      0.84      5100\n",
      "\n",
      "    accuracy                           0.84     10000\n",
      "   macro avg       0.84      0.84      0.84     10000\n",
      "weighted avg       0.84      0.84      0.84     10000\n",
      "\n"
     ]
    }
   ],
   "source": [
    "MNB = MultinomialNB()\n",
    "MNB.fit(X_train_2k, Y_train)\n",
    "predicted = MNB.predict(X_test_2k)\n",
    "performance = metrics.classification_report(Y_test,predicted, target_names= ['0', '1'])\n",
    "print(performance)"
   ]
  },
  {
   "cell_type": "markdown",
   "id": "94abc0f7",
   "metadata": {},
   "source": [
    "### SVM"
   ]
  },
  {
   "cell_type": "code",
   "execution_count": 63,
   "id": "ed7d4073",
   "metadata": {},
   "outputs": [
    {
     "name": "stdout",
     "output_type": "stream",
     "text": [
      "              precision    recall  f1-score   support\n",
      "\n",
      "           0       0.88      0.86      0.87      4900\n",
      "           1       0.87      0.89      0.88      5100\n",
      "\n",
      "    accuracy                           0.87     10000\n",
      "   macro avg       0.87      0.87      0.87     10000\n",
      "weighted avg       0.87      0.87      0.87     10000\n",
      "\n"
     ]
    }
   ],
   "source": [
    "from sklearn import svm\n",
    "clf = svm.SVC()\n",
    "clf.fit(X_train_2k, Y_train)\n",
    "predicted = clf.predict(X_test_2k)\n",
    "performance = metrics.classification_report(Y_test,predicted, target_names= ['0', '1'])\n",
    "print(performance)"
   ]
  },
  {
   "cell_type": "markdown",
   "id": "2593b6b0",
   "metadata": {},
   "source": [
    "### 4000 Features"
   ]
  },
  {
   "cell_type": "code",
   "execution_count": 64,
   "id": "109ff0ab",
   "metadata": {},
   "outputs": [],
   "source": [
    "from sklearn.feature_extraction.text import CountVectorizer\n",
    "from nltk.tokenize import RegexpTokenizer\n",
    "token = RegexpTokenizer(r'[a-zA-Z]+')\n",
    "cv = CountVectorizer(stop_words='english',ngram_range = (1,1),tokenizer = token.tokenize, max_features = 4000)\n",
    "X_train_4k = cv.fit_transform(X_train)\n",
    "X_test_4k= cv.transform(X_test)"
   ]
  },
  {
   "cell_type": "markdown",
   "id": "ae58d090",
   "metadata": {},
   "source": [
    "### Naive Bayes"
   ]
  },
  {
   "cell_type": "code",
   "execution_count": 65,
   "id": "987fe8a1",
   "metadata": {},
   "outputs": [
    {
     "name": "stdout",
     "output_type": "stream",
     "text": [
      "              precision    recall  f1-score   support\n",
      "\n",
      "           0       0.84      0.86      0.85      4900\n",
      "           1       0.86      0.84      0.85      5100\n",
      "\n",
      "    accuracy                           0.85     10000\n",
      "   macro avg       0.85      0.85      0.85     10000\n",
      "weighted avg       0.85      0.85      0.85     10000\n",
      "\n"
     ]
    }
   ],
   "source": [
    "MNB = MultinomialNB()\n",
    "MNB.fit(X_train_4k, Y_train)\n",
    "predicted = MNB.predict(X_test_4k)\n",
    "performance = metrics.classification_report(Y_test,predicted, target_names= ['0', '1'])\n",
    "print(performance)"
   ]
  },
  {
   "cell_type": "markdown",
   "id": "5b19b6d9",
   "metadata": {},
   "source": [
    "### SVM"
   ]
  },
  {
   "cell_type": "code",
   "execution_count": 66,
   "id": "370c5768",
   "metadata": {},
   "outputs": [
    {
     "name": "stdout",
     "output_type": "stream",
     "text": [
      "              precision    recall  f1-score   support\n",
      "\n",
      "           0       0.89      0.86      0.88      4900\n",
      "           1       0.87      0.90      0.88      5100\n",
      "\n",
      "    accuracy                           0.88     10000\n",
      "   macro avg       0.88      0.88      0.88     10000\n",
      "weighted avg       0.88      0.88      0.88     10000\n",
      "\n"
     ]
    }
   ],
   "source": [
    "clf = svm.SVC()\n",
    "clf.fit(X_train_4k, Y_train)\n",
    "predicted = clf.predict(X_test_4k)\n",
    "performance = metrics.classification_report(Y_test,predicted, target_names= ['0', '1'])\n",
    "print(performance)"
   ]
  },
  {
   "cell_type": "markdown",
   "id": "e0be5bd2",
   "metadata": {},
   "source": [
    "### Naive Bayes\n",
    "After analyzing various model configurations on the Naive Bayes model and testing the model with different number of features, I observed the following-\n",
    "- Accuracy score for the model with TFIDF is 84%\n",
    "- Accuracy score for Bag of Words(Binary)(84%) is slightly better than Count Vectorizer (83%) without the Binary parameter\n",
    "- The Accuracy score for Naive Bayes went on increasing as the number of features increased, maximum of 85% with 4000 features"
   ]
  },
  {
   "cell_type": "markdown",
   "id": "e0ec05d2",
   "metadata": {},
   "source": [
    "### Support Vector Machine\n",
    "After analyzing various model configurations on the SVM model and testing the model with different number of features, I observed the following-\n",
    "- Accuracy score for the model with TFIDF is 86%\n",
    "- Accuracy score for Bag of Words(Binary)(87%) is slightly better than Count Vectorizer (86%) without the Binary parameter\n",
    "- The Accuracy score for SVM went on increasing as the number of features increased, maximum of 88% with 4000 features"
   ]
  },
  {
   "cell_type": "markdown",
   "id": "3fe139c2",
   "metadata": {},
   "source": [
    "## LSTM for Sentiment Analysis"
   ]
  },
  {
   "cell_type": "code",
   "execution_count": 69,
   "id": "47754cdf",
   "metadata": {},
   "outputs": [
    {
     "name": "stdout",
     "output_type": "stream",
     "text": [
      "Collecting WordCloud\n",
      "  Downloading wordcloud-1.9.1.1-cp39-cp39-win_amd64.whl (153 kB)\n",
      "     -------------------------------------- 153.3/153.3 kB 3.0 MB/s eta 0:00:00\n",
      "Requirement already satisfied: matplotlib in c:\\users\\dipti\\anaconda3\\lib\\site-packages (from WordCloud) (3.5.2)\n",
      "Requirement already satisfied: pillow in c:\\users\\dipti\\anaconda3\\lib\\site-packages (from WordCloud) (9.2.0)\n",
      "Requirement already satisfied: numpy>=1.6.1 in c:\\users\\dipti\\anaconda3\\lib\\site-packages (from WordCloud) (1.21.6)\n",
      "Requirement already satisfied: packaging>=20.0 in c:\\users\\dipti\\anaconda3\\lib\\site-packages (from matplotlib->WordCloud) (23.0)\n",
      "Requirement already satisfied: fonttools>=4.22.0 in c:\\users\\dipti\\anaconda3\\lib\\site-packages (from matplotlib->WordCloud) (4.25.0)\n",
      "Requirement already satisfied: pyparsing>=2.2.1 in c:\\users\\dipti\\anaconda3\\lib\\site-packages (from matplotlib->WordCloud) (3.0.9)\n",
      "Requirement already satisfied: kiwisolver>=1.0.1 in c:\\users\\dipti\\anaconda3\\lib\\site-packages (from matplotlib->WordCloud) (1.4.2)\n",
      "Requirement already satisfied: cycler>=0.10 in c:\\users\\dipti\\anaconda3\\lib\\site-packages (from matplotlib->WordCloud) (0.11.0)\n",
      "Requirement already satisfied: python-dateutil>=2.7 in c:\\users\\dipti\\anaconda3\\lib\\site-packages (from matplotlib->WordCloud) (2.8.2)\n",
      "Requirement already satisfied: six>=1.5 in c:\\users\\dipti\\anaconda3\\lib\\site-packages (from python-dateutil>=2.7->matplotlib->WordCloud) (1.16.0)\n",
      "Installing collected packages: WordCloud\n",
      "Successfully installed WordCloud-1.9.1.1\n",
      "Note: you may need to restart the kernel to use updated packages.\n"
     ]
    },
    {
     "name": "stderr",
     "output_type": "stream",
     "text": [
      "\n",
      "[notice] A new release of pip is available: 23.0.1 -> 23.1.1\n",
      "[notice] To update, run: python.exe -m pip install --upgrade pip\n"
     ]
    }
   ],
   "source": [
    "pip install WordCloud"
   ]
  },
  {
   "cell_type": "code",
   "execution_count": 70,
   "id": "44e5649d",
   "metadata": {},
   "outputs": [],
   "source": [
    "import json\n",
    "import re\n",
    "import numpy as np \n",
    "import pandas as pd \n",
    "import matplotlib.pyplot as plt\n",
    "import seaborn as sns\n",
    "from wordcloud import WordCloud, STOPWORDS \n",
    "from sklearn.preprocessing import LabelEncoder\n",
    "from sklearn.feature_extraction.text import CountVectorizer\n",
    "from sklearn.metrics import confusion_matrix\n",
    "from sklearn.model_selection import train_test_split\n",
    "import tensorflow as tf\n",
    "from tensorflow.keras.preprocessing.text import Tokenizer\n",
    "from tensorflow.keras.preprocessing.sequence import pad_sequences"
   ]
  },
  {
   "cell_type": "code",
   "execution_count": 71,
   "id": "be5de3fc",
   "metadata": {},
   "outputs": [],
   "source": [
    "# Method to plot models accuracy/loss\n",
    "\n",
    "def plot_history(history):\n",
    "    \n",
    "    plt.figure(figsize=(20, 5))\n",
    "\n",
    "    plt.subplot(1, 2, 1)\n",
    "    plt.plot(history.history['accuracy'], label='Training Accuracy', c='green', lw='2')\n",
    "    plt.plot(history.history['val_accuracy'], label='Validation Accuracy', c='orangered', lw='2')\n",
    "    plt.title('Accuracy', loc='left', fontsize=16)\n",
    "    plt.xlabel(\"Epochs\")\n",
    "    plt.ylabel('Accuracy')\n",
    "    plt.legend()\n",
    "\n",
    "    plt.subplot(1, 2, 2)\n",
    "    plt.plot(history.history['loss'], label='Training Loss', c='green', lw='2')\n",
    "    plt.plot(history.history['val_loss'], label='Validation Loss', c='orangered', lw='2')\n",
    "    plt.title('Loss', loc='left', fontsize=16)\n",
    "    plt.xlabel(\"Epochs\")\n",
    "    plt.ylabel('Loss')\n",
    "    plt.legend()\n",
    "\n",
    "    plt.show()"
   ]
  },
  {
   "cell_type": "code",
   "execution_count": 72,
   "id": "16151136",
   "metadata": {},
   "outputs": [
    {
     "name": "stdout",
     "output_type": "stream",
     "text": [
      "No. of rows and columns : (50000, 6)\n"
     ]
    },
    {
     "data": {
      "text/html": [
       "<div>\n",
       "<style scoped>\n",
       "    .dataframe tbody tr th:only-of-type {\n",
       "        vertical-align: middle;\n",
       "    }\n",
       "\n",
       "    .dataframe tbody tr th {\n",
       "        vertical-align: top;\n",
       "    }\n",
       "\n",
       "    .dataframe thead th {\n",
       "        text-align: right;\n",
       "    }\n",
       "</style>\n",
       "<table border=\"1\" class=\"dataframe\">\n",
       "  <thead>\n",
       "    <tr style=\"text-align: right;\">\n",
       "      <th></th>\n",
       "      <th>review</th>\n",
       "      <th>sentiment</th>\n",
       "      <th>processed</th>\n",
       "      <th>polarity</th>\n",
       "      <th>compound</th>\n",
       "      <th>label</th>\n",
       "    </tr>\n",
       "  </thead>\n",
       "  <tbody>\n",
       "    <tr>\n",
       "      <th>0</th>\n",
       "      <td>One of the other reviewers has mentioned that ...</td>\n",
       "      <td>positive</td>\n",
       "      <td>reviewer mention watch 1 oz episode hook . rig...</td>\n",
       "      <td>{'neg': 0.203, 'neu': 0.748, 'pos': 0.048, 'co...</td>\n",
       "      <td>-0.9951</td>\n",
       "      <td>Negative</td>\n",
       "    </tr>\n",
       "    <tr>\n",
       "      <th>1</th>\n",
       "      <td>A wonderful little production. &lt;br /&gt;&lt;br /&gt;The...</td>\n",
       "      <td>positive</td>\n",
       "      <td>wonderful little production . &lt; br /&gt;&lt;br /&gt;the...</td>\n",
       "      <td>{'neg': 0.053, 'neu': 0.776, 'pos': 0.172, 'co...</td>\n",
       "      <td>0.9641</td>\n",
       "      <td>Positive</td>\n",
       "    </tr>\n",
       "    <tr>\n",
       "      <th>2</th>\n",
       "      <td>I thought this was a wonderful way to spend ti...</td>\n",
       "      <td>positive</td>\n",
       "      <td>think wonderful way spend time hot summer week...</td>\n",
       "      <td>{'neg': 0.094, 'neu': 0.714, 'pos': 0.192, 'co...</td>\n",
       "      <td>0.9605</td>\n",
       "      <td>Positive</td>\n",
       "    </tr>\n",
       "    <tr>\n",
       "      <th>3</th>\n",
       "      <td>Basically there's a family where a little boy ...</td>\n",
       "      <td>negative</td>\n",
       "      <td>basically family little boy ( jake ) think zom...</td>\n",
       "      <td>{'neg': 0.138, 'neu': 0.797, 'pos': 0.065, 'co...</td>\n",
       "      <td>-0.9213</td>\n",
       "      <td>Negative</td>\n",
       "    </tr>\n",
       "    <tr>\n",
       "      <th>4</th>\n",
       "      <td>Petter Mattei's \"Love in the Time of Money\" is...</td>\n",
       "      <td>positive</td>\n",
       "      <td>petter mattei \" love time money \" visually stu...</td>\n",
       "      <td>{'neg': 0.052, 'neu': 0.801, 'pos': 0.147, 'co...</td>\n",
       "      <td>0.9744</td>\n",
       "      <td>Positive</td>\n",
       "    </tr>\n",
       "  </tbody>\n",
       "</table>\n",
       "</div>"
      ],
      "text/plain": [
       "                                              review sentiment  \\\n",
       "0  One of the other reviewers has mentioned that ...  positive   \n",
       "1  A wonderful little production. <br /><br />The...  positive   \n",
       "2  I thought this was a wonderful way to spend ti...  positive   \n",
       "3  Basically there's a family where a little boy ...  negative   \n",
       "4  Petter Mattei's \"Love in the Time of Money\" is...  positive   \n",
       "\n",
       "                                           processed  \\\n",
       "0  reviewer mention watch 1 oz episode hook . rig...   \n",
       "1  wonderful little production . < br /><br />the...   \n",
       "2  think wonderful way spend time hot summer week...   \n",
       "3  basically family little boy ( jake ) think zom...   \n",
       "4  petter mattei \" love time money \" visually stu...   \n",
       "\n",
       "                                            polarity  compound     label  \n",
       "0  {'neg': 0.203, 'neu': 0.748, 'pos': 0.048, 'co...   -0.9951  Negative  \n",
       "1  {'neg': 0.053, 'neu': 0.776, 'pos': 0.172, 'co...    0.9641  Positive  \n",
       "2  {'neg': 0.094, 'neu': 0.714, 'pos': 0.192, 'co...    0.9605  Positive  \n",
       "3  {'neg': 0.138, 'neu': 0.797, 'pos': 0.065, 'co...   -0.9213  Negative  \n",
       "4  {'neg': 0.052, 'neu': 0.801, 'pos': 0.147, 'co...    0.9744  Positive  "
      ]
     },
     "execution_count": 72,
     "metadata": {},
     "output_type": "execute_result"
    }
   ],
   "source": [
    "print('No. of rows and columns :', data.shape)\n",
    "data.head()"
   ]
  },
  {
   "cell_type": "code",
   "execution_count": 73,
   "id": "f2f4f4fd",
   "metadata": {},
   "outputs": [],
   "source": [
    "df= data.loc[:5000,:]"
   ]
  },
  {
   "cell_type": "code",
   "execution_count": 75,
   "id": "721cec60",
   "metadata": {},
   "outputs": [
    {
     "name": "stderr",
     "output_type": "stream",
     "text": [
      "C:\\Users\\dipti\\AppData\\Local\\Temp\\ipykernel_28572\\2408058979.py:5: SettingWithCopyWarning: \n",
      "A value is trying to be set on a copy of a slice from a DataFrame.\n",
      "Try using .loc[row_indexer,col_indexer] = value instead\n",
      "\n",
      "See the caveats in the documentation: https://pandas.pydata.org/pandas-docs/stable/user_guide/indexing.html#returning-a-view-versus-a-copy\n",
      "  df['labels'] = label_encoder.transform(df['sentiment'])\n"
     ]
    }
   ],
   "source": [
    "from sklearn.preprocessing import LabelEncoder\n",
    "\n",
    "label_encoder = LabelEncoder()\n",
    "label_encoder.fit(df['sentiment'])\n",
    "df['labels'] = label_encoder.transform(df['sentiment'])"
   ]
  },
  {
   "cell_type": "code",
   "execution_count": 77,
   "id": "f6312da6",
   "metadata": {},
   "outputs": [],
   "source": [
    "# train-test split\n",
    "train_sentences, test_sentences, train_labels, test_labels = train_test_split(df['review'], df['labels'], test_size=0.2, random_state=5, stratify=df['labels'])\n"
   ]
  },
  {
   "cell_type": "code",
   "execution_count": 78,
   "id": "31654099",
   "metadata": {},
   "outputs": [],
   "source": [
    "# model parameters\n",
    "embedding_dim = 100\n",
    "max_length = 120\n",
    "trunc_type='post'\n",
    "padding_type='post'\n",
    "oov_tok = \"<OOV>\" # out of vocabulary\n",
    "\n",
    "# tokenize sentences\n",
    "tokenizer = Tokenizer(oov_token=oov_tok)\n",
    "tokenizer.fit_on_texts(train_sentences)\n",
    "word_index = tokenizer.word_index\n",
    "\n",
    "# convert train dataset to sequence and pad sequences\n",
    "train_sequences = tokenizer.texts_to_sequences(train_sentences)\n",
    "train_padded = pad_sequences(train_sequences, padding=padding_type, maxlen=max_length)\n",
    "\n",
    "# convert validation dataset to sequence and pad sequences\n",
    "test_sequences = tokenizer.texts_to_sequences(test_sentences)\n",
    "test_padded = pad_sequences(test_sequences, padding=padding_type, maxlen=max_length)\n",
    "\n",
    "\n",
    "vocab_size = len(word_index)"
   ]
  },
  {
   "cell_type": "code",
   "execution_count": 79,
   "id": "3d242f0b",
   "metadata": {},
   "outputs": [
    {
     "name": "stdout",
     "output_type": "stream",
     "text": [
      "38502\n"
     ]
    }
   ],
   "source": [
    "print(vocab_size)"
   ]
  },
  {
   "cell_type": "code",
   "execution_count": 80,
   "id": "9c988147",
   "metadata": {},
   "outputs": [],
   "source": [
    "import locale\n",
    "def getpreferredencoding(do_setlocale = True):\n",
    "    return \"UTF-8\"\n",
    "locale.getpreferredencoding = getpreferredencoding"
   ]
  },
  {
   "cell_type": "code",
   "execution_count": 85,
   "id": "d4c57f86",
   "metadata": {},
   "outputs": [],
   "source": [
    "# load the pre-trained GloVe word embeddings\n",
    "EMBEDDING_FILE = r'C:\\Users\\dipti\\Downloads\\glove.6B\\glove.6B.100d.txt'\n",
    "word_vectors = {}\n",
    "with open(EMBEDDING_FILE, encoding=\"utf8\") as f:\n",
    "    for line in f:\n",
    "        values = line.split()\n",
    "        word = values[0]\n",
    "        coefs = np.asarray(values[1:], dtype='float32')\n",
    "        word_vectors[word] = coefs"
   ]
  },
  {
   "cell_type": "code",
   "execution_count": 86,
   "id": "f52bbba1",
   "metadata": {},
   "outputs": [],
   "source": [
    "# create the embedding matrix\n",
    "embedding_matrix = np.zeros((vocab_size + 1, embedding_dim))\n",
    "for word, i in word_index.items():\n",
    "    embedding_vector = word_vectors.get(word)\n",
    "    if embedding_vector is not None:\n",
    "        embedding_matrix[i] = embedding_vector"
   ]
  },
  {
   "cell_type": "code",
   "execution_count": 92,
   "id": "b2c22d29",
   "metadata": {},
   "outputs": [
    {
     "name": "stdout",
     "output_type": "stream",
     "text": [
      "Model: \"sequential_1\"\n",
      "_________________________________________________________________\n",
      " Layer (type)                Output Shape              Param #   \n",
      "=================================================================\n",
      " embedding_1 (Embedding)     (None, 120, 100)          3850200   \n",
      "                                                                 \n",
      " lstm_1 (LSTM)               (None, 64)                42240     \n",
      "                                                                 \n",
      " dense_2 (Dense)             (None, 24)                1560      \n",
      "                                                                 \n",
      " dense_3 (Dense)             (None, 1)                 25        \n",
      "                                                                 \n",
      "=================================================================\n",
      "Total params: 3,894,025\n",
      "Trainable params: 3,894,025\n",
      "Non-trainable params: 0\n",
      "_________________________________________________________________\n"
     ]
    }
   ],
   "source": [
    "# LSTM model with trainable word embeddings word2vec\n",
    "\n",
    "# model initialization\n",
    "model = tf.keras.Sequential([\n",
    "    tf.keras.layers.Embedding(vocab_size, embedding_dim, input_length=max_length),\n",
    "    tf.keras.layers.LSTM(64),\n",
    "    tf.keras.layers.Dense(24, activation='relu'),\n",
    "    tf.keras.layers.Dense(1, activation='sigmoid')\n",
    "])\n",
    "\n",
    "# compile model\n",
    "model.compile(loss='binary_crossentropy',\n",
    "              optimizer='adam',\n",
    "              metrics=['accuracy'])\n",
    "\n",
    "# model summary\n",
    "model.summary()"
   ]
  },
  {
   "cell_type": "code",
   "execution_count": 93,
   "id": "759adb79",
   "metadata": {},
   "outputs": [
    {
     "name": "stdout",
     "output_type": "stream",
     "text": [
      "Epoch 1/50\n",
      "88/88 [==============================] - 9s 83ms/step - loss: 0.6895 - accuracy: 0.5464 - val_loss: 0.6476 - val_accuracy: 0.6758\n",
      "Epoch 2/50\n",
      "88/88 [==============================] - 7s 80ms/step - loss: 0.5664 - accuracy: 0.7154 - val_loss: 0.5250 - val_accuracy: 0.7375\n",
      "Epoch 3/50\n",
      "88/88 [==============================] - 8s 86ms/step - loss: 0.3096 - accuracy: 0.8714 - val_loss: 0.5196 - val_accuracy: 0.7658\n",
      "Epoch 4/50\n",
      "88/88 [==============================] - 7s 85ms/step - loss: 0.1566 - accuracy: 0.9486 - val_loss: 0.5444 - val_accuracy: 0.7767\n",
      "Epoch 5/50\n",
      "88/88 [==============================] - 7s 75ms/step - loss: 0.0919 - accuracy: 0.9743 - val_loss: 0.5889 - val_accuracy: 0.7967\n",
      "Epoch 6/50\n",
      "88/88 [==============================] - 7s 76ms/step - loss: 0.0410 - accuracy: 0.9893 - val_loss: 0.7134 - val_accuracy: 0.8033\n",
      "Epoch 7/50\n",
      "88/88 [==============================] - 7s 76ms/step - loss: 0.0206 - accuracy: 0.9961 - val_loss: 0.7958 - val_accuracy: 0.8083\n",
      "Epoch 8/50\n",
      "88/88 [==============================] - 7s 75ms/step - loss: 0.0099 - accuracy: 0.9982 - val_loss: 0.9010 - val_accuracy: 0.8125\n",
      "Epoch 9/50\n",
      "88/88 [==============================] - 7s 76ms/step - loss: 0.0097 - accuracy: 0.9982 - val_loss: 0.8988 - val_accuracy: 0.8117\n",
      "Epoch 10/50\n",
      "88/88 [==============================] - 7s 75ms/step - loss: 0.0053 - accuracy: 0.9989 - val_loss: 0.9522 - val_accuracy: 0.8150\n",
      "Epoch 11/50\n",
      "88/88 [==============================] - 7s 76ms/step - loss: 0.0066 - accuracy: 0.9989 - val_loss: 0.9337 - val_accuracy: 0.8100\n",
      "Epoch 12/50\n",
      "88/88 [==============================] - 7s 76ms/step - loss: 0.0055 - accuracy: 0.9993 - val_loss: 1.0218 - val_accuracy: 0.8092\n",
      "Epoch 13/50\n",
      "88/88 [==============================] - 7s 78ms/step - loss: 0.0045 - accuracy: 0.9993 - val_loss: 0.9974 - val_accuracy: 0.8108\n",
      "Epoch 14/50\n",
      "88/88 [==============================] - 7s 77ms/step - loss: 0.0042 - accuracy: 0.9993 - val_loss: 1.2044 - val_accuracy: 0.8042\n",
      "Epoch 15/50\n",
      "88/88 [==============================] - 7s 77ms/step - loss: 0.0044 - accuracy: 0.9993 - val_loss: 1.2504 - val_accuracy: 0.8008\n",
      "Epoch 16/50\n",
      "88/88 [==============================] - 7s 75ms/step - loss: 0.0046 - accuracy: 0.9993 - val_loss: 1.1030 - val_accuracy: 0.8133\n",
      "Epoch 17/50\n",
      "88/88 [==============================] - 7s 74ms/step - loss: 0.0042 - accuracy: 0.9993 - val_loss: 1.1734 - val_accuracy: 0.8108\n",
      "Epoch 18/50\n",
      "88/88 [==============================] - 7s 76ms/step - loss: 0.0037 - accuracy: 0.9993 - val_loss: 1.2668 - val_accuracy: 0.8117\n",
      "Epoch 19/50\n",
      "88/88 [==============================] - 7s 78ms/step - loss: 0.0073 - accuracy: 0.9993 - val_loss: 1.1286 - val_accuracy: 0.7750\n",
      "Epoch 20/50\n",
      "88/88 [==============================] - 7s 79ms/step - loss: 0.0037 - accuracy: 0.9996 - val_loss: 1.0150 - val_accuracy: 0.7992\n"
     ]
    }
   ],
   "source": [
    "# fit model\n",
    "early_stop = EarlyStopping(monitor='val_accuracy', patience=10, mode='max', restore_best_weights=True)\n",
    "\n",
    "num_epochs = 50\n",
    "history = model.fit(train_padded, train_labels, \n",
    "                    epochs=num_epochs, verbose=1, callbacks=[early_stop],\n",
    "                    validation_split=0.3)"
   ]
  },
  {
   "cell_type": "code",
   "execution_count": 94,
   "id": "1c89650a",
   "metadata": {},
   "outputs": [
    {
     "data": {
      "image/png": "[encoded data removed]",
      "text/plain": [
       "<Figure size 2000x500 with 2 Axes>"
      ]
     },
     "metadata": {},
     "output_type": "display_data"
    }
   ],
   "source": [
    "plot_history(history)"
   ]
  },
  {
   "cell_type": "code",
   "execution_count": 95,
   "id": "19d4f2b1",
   "metadata": {},
   "outputs": [
    {
     "name": "stdout",
     "output_type": "stream",
     "text": [
      "32/32 [==============================] - 0s 14ms/step - loss: 1.1874 - accuracy: 0.7702\n"
     ]
    }
   ],
   "source": [
    "results = model.evaluate(test_padded, test_labels, verbose=1)"
   ]
  },
  {
   "cell_type": "code",
   "execution_count": 105,
   "id": "6dd3cf2c",
   "metadata": {},
   "outputs": [
    {
     "name": "stdout",
     "output_type": "stream",
     "text": [
      "Model: \"sequential_3\"\n",
      "_________________________________________________________________\n",
      " Layer (type)                Output Shape              Param #   \n",
      "=================================================================\n",
      " embedding_3 (Embedding)     (None, 120, 100)          3850200   \n",
      "                                                                 \n",
      " lstm_4 (LSTM)               (None, 64)                42240     \n",
      "                                                                 \n",
      " dense_8 (Dense)             (None, 24)                1560      \n",
      "                                                                 \n",
      " dense_9 (Dense)             (None, 1)                 25        \n",
      "                                                                 \n",
      "=================================================================\n",
      "Total params: 3,894,025\n",
      "Trainable params: 3,894,025\n",
      "Non-trainable params: 0\n",
      "_________________________________________________________________\n"
     ]
    }
   ],
   "source": [
    "# LSTM model with trainable word embeddings word2vec\n",
    "\n",
    "# model initialization\n",
    "model = tf.keras.Sequential([\n",
    "    tf.keras.layers.Embedding(vocab_size, embedding_dim, input_length=max_length),\n",
    "    tf.keras.layers.LSTM(64),\n",
    "    tf.keras.layers.Dense(24, activation='tanh'),\n",
    "    tf.keras.layers.Dense(1, activation='sigmoid')\n",
    "])\n",
    "\n",
    "# compile model\n",
    "model.compile(loss='binary_crossentropy',\n",
    "              optimizer='adam',\n",
    "              metrics=['accuracy'])\n",
    "\n",
    "# model summary\n",
    "model.summary()"
   ]
  },
  {
   "cell_type": "code",
   "execution_count": 106,
   "id": "88533502",
   "metadata": {},
   "outputs": [
    {
     "name": "stdout",
     "output_type": "stream",
     "text": [
      "Epoch 1/50\n",
      "88/88 [==============================] - 9s 81ms/step - loss: 0.6466 - accuracy: 0.6157 - val_loss: 0.5384 - val_accuracy: 0.7408\n",
      "Epoch 2/50\n",
      "88/88 [==============================] - 7s 78ms/step - loss: 0.3163 - accuracy: 0.8811 - val_loss: 0.4424 - val_accuracy: 0.8025\n",
      "Epoch 3/50\n",
      "88/88 [==============================] - 7s 78ms/step - loss: 0.0898 - accuracy: 0.9711 - val_loss: 0.5861 - val_accuracy: 0.7733\n",
      "Epoch 4/50\n",
      "88/88 [==============================] - 7s 77ms/step - loss: 0.0474 - accuracy: 0.9879 - val_loss: 0.8379 - val_accuracy: 0.7867\n",
      "Epoch 5/50\n",
      "88/88 [==============================] - 7s 75ms/step - loss: 0.0141 - accuracy: 0.9979 - val_loss: 0.6100 - val_accuracy: 0.8175\n",
      "Epoch 6/50\n",
      "88/88 [==============================] - 7s 75ms/step - loss: 0.0199 - accuracy: 0.9957 - val_loss: 0.8189 - val_accuracy: 0.7992\n",
      "Epoch 7/50\n",
      "88/88 [==============================] - 7s 75ms/step - loss: 0.0648 - accuracy: 0.9871 - val_loss: 1.4428 - val_accuracy: 0.6867\n",
      "Epoch 8/50\n",
      "88/88 [==============================] - 7s 75ms/step - loss: 0.1306 - accuracy: 0.9446 - val_loss: 0.7565 - val_accuracy: 0.7950\n",
      "Epoch 9/50\n",
      "88/88 [==============================] - 7s 75ms/step - loss: 0.0347 - accuracy: 0.9914 - val_loss: 0.7925 - val_accuracy: 0.8008\n",
      "Epoch 10/50\n",
      "88/88 [==============================] - 7s 75ms/step - loss: 0.0338 - accuracy: 0.9936 - val_loss: 0.7198 - val_accuracy: 0.8008\n",
      "Epoch 11/50\n",
      "88/88 [==============================] - 7s 75ms/step - loss: 0.0240 - accuracy: 0.9968 - val_loss: 0.9079 - val_accuracy: 0.8033\n",
      "Epoch 12/50\n",
      "88/88 [==============================] - 7s 75ms/step - loss: 0.0521 - accuracy: 0.9832 - val_loss: 0.8495 - val_accuracy: 0.7817\n",
      "Epoch 13/50\n",
      "88/88 [==============================] - 7s 76ms/step - loss: 0.0410 - accuracy: 0.9893 - val_loss: 0.7937 - val_accuracy: 0.7750\n",
      "Epoch 14/50\n",
      "88/88 [==============================] - 7s 78ms/step - loss: 0.1460 - accuracy: 0.9668 - val_loss: 0.8496 - val_accuracy: 0.6650\n",
      "Epoch 15/50\n",
      "88/88 [==============================] - 7s 77ms/step - loss: 0.2451 - accuracy: 0.9039 - val_loss: 0.7818 - val_accuracy: 0.7517\n"
     ]
    }
   ],
   "source": [
    "# fit model\n",
    "early_stop = EarlyStopping(monitor='val_accuracy', patience=10, mode='max', restore_best_weights=True)\n",
    "\n",
    "num_epochs = 50\n",
    "history = model.fit(train_padded, train_labels, \n",
    "                    epochs=num_epochs, verbose=1, callbacks=[early_stop],\n",
    "                    validation_split=0.3)"
   ]
  },
  {
   "cell_type": "code",
   "execution_count": 107,
   "id": "d3965fbe",
   "metadata": {},
   "outputs": [
    {
     "data": {
      "image/png": "[encoded data removed]",
      "text/plain": [
       "<Figure size 2000x500 with 2 Axes>"
      ]
     },
     "metadata": {},
     "output_type": "display_data"
    }
   ],
   "source": [
    "plot_history(history)"
   ]
  },
  {
   "cell_type": "code",
   "execution_count": 108,
   "id": "f5d1a948",
   "metadata": {},
   "outputs": [
    {
     "name": "stdout",
     "output_type": "stream",
     "text": [
      "32/32 [==============================] - 0s 12ms/step - loss: 0.7316 - accuracy: 0.7902\n"
     ]
    }
   ],
   "source": [
    "results = model.evaluate(test_padded, test_labels, verbose=1)"
   ]
  },
  {
   "cell_type": "code",
   "execution_count": 109,
   "id": "0b56c702",
   "metadata": {},
   "outputs": [
    {
     "name": "stdout",
     "output_type": "stream",
     "text": [
      "Model: \"sequential_4\"\n",
      "_________________________________________________________________\n",
      " Layer (type)                Output Shape              Param #   \n",
      "=================================================================\n",
      " embedding_4 (Embedding)     (None, 120, 100)          3850200   \n",
      "                                                                 \n",
      " lstm_5 (LSTM)               (None, 64)                42240     \n",
      "                                                                 \n",
      " dense_10 (Dense)            (None, 24)                1560      \n",
      "                                                                 \n",
      " dense_11 (Dense)            (None, 1)                 25        \n",
      "                                                                 \n",
      "=================================================================\n",
      "Total params: 3,894,025\n",
      "Trainable params: 3,894,025\n",
      "Non-trainable params: 0\n",
      "_________________________________________________________________\n"
     ]
    }
   ],
   "source": [
    "# LSTM model with trainable word embeddings word2vec\n",
    "\n",
    "# model initialization\n",
    "model = tf.keras.Sequential([\n",
    "    tf.keras.layers.Embedding(vocab_size, embedding_dim, input_length=max_length),\n",
    "    tf.keras.layers.LSTM(64),\n",
    "    tf.keras.layers.Dense(24, activation='relu'),\n",
    "    tf.keras.layers.Dense(1, activation='softmax')\n",
    "])\n",
    "\n",
    "# compile model\n",
    "model.compile(loss='binary_crossentropy',\n",
    "              optimizer='adam',\n",
    "              metrics=['accuracy'])\n",
    "\n",
    "# model summary\n",
    "model.summary()"
   ]
  },
  {
   "cell_type": "code",
   "execution_count": 110,
   "id": "23271aff",
   "metadata": {},
   "outputs": [
    {
     "name": "stdout",
     "output_type": "stream",
     "text": [
      "Epoch 1/50\n",
      "88/88 [==============================] - 9s 80ms/step - loss: 0.6765 - accuracy: 0.4839 - val_loss: 0.6474 - val_accuracy: 0.5167\n",
      "Epoch 2/50\n",
      "88/88 [==============================] - 7s 75ms/step - loss: 0.4211 - accuracy: 0.4839 - val_loss: 0.4276 - val_accuracy: 0.5167\n",
      "Epoch 3/50\n",
      "88/88 [==============================] - 7s 75ms/step - loss: 0.1276 - accuracy: 0.4839 - val_loss: 0.6774 - val_accuracy: 0.5167\n",
      "Epoch 4/50\n",
      "88/88 [==============================] - 7s 75ms/step - loss: 0.0354 - accuracy: 0.4839 - val_loss: 0.5671 - val_accuracy: 0.5167\n",
      "Epoch 5/50\n",
      "88/88 [==============================] - 7s 75ms/step - loss: 0.0637 - accuracy: 0.4839 - val_loss: 0.7169 - val_accuracy: 0.5167\n",
      "Epoch 6/50\n",
      "88/88 [==============================] - 7s 75ms/step - loss: 0.2095 - accuracy: 0.4839 - val_loss: 0.6871 - val_accuracy: 0.5167\n",
      "Epoch 7/50\n",
      "88/88 [==============================] - 7s 75ms/step - loss: 0.1017 - accuracy: 0.4839 - val_loss: 0.6741 - val_accuracy: 0.5167\n",
      "Epoch 8/50\n",
      "88/88 [==============================] - 7s 76ms/step - loss: 0.0362 - accuracy: 0.4839 - val_loss: 0.6621 - val_accuracy: 0.5167\n",
      "Epoch 9/50\n",
      "88/88 [==============================] - 7s 76ms/step - loss: 0.0432 - accuracy: 0.4839 - val_loss: 0.7424 - val_accuracy: 0.5167\n",
      "Epoch 10/50\n",
      "88/88 [==============================] - 7s 76ms/step - loss: 0.0451 - accuracy: 0.4839 - val_loss: 0.8469 - val_accuracy: 0.5167\n",
      "Epoch 11/50\n",
      "88/88 [==============================] - 7s 76ms/step - loss: 0.0047 - accuracy: 0.4839 - val_loss: 0.9006 - val_accuracy: 0.5167\n"
     ]
    }
   ],
   "source": [
    "# fit model\n",
    "early_stop = EarlyStopping(monitor='val_accuracy', patience=10, mode='max', restore_best_weights=True)\n",
    "\n",
    "num_epochs = 50\n",
    "history = model.fit(train_padded, train_labels, \n",
    "                    epochs=num_epochs, verbose=1, callbacks=[early_stop],\n",
    "                    validation_split=0.3)"
   ]
  },
  {
   "cell_type": "code",
   "execution_count": 111,
   "id": "5e817c07",
   "metadata": {},
   "outputs": [
    {
     "data": {
      "image/png": "[encoded data removed]",
      "text/plain": [
       "<Figure size 2000x500 with 2 Axes>"
      ]
     },
     "metadata": {},
     "output_type": "display_data"
    }
   ],
   "source": [
    "plot_history(history)"
   ]
  },
  {
   "cell_type": "code",
   "execution_count": 112,
   "id": "ac70b11f",
   "metadata": {},
   "outputs": [
    {
     "name": "stdout",
     "output_type": "stream",
     "text": [
      "32/32 [==============================] - 0s 12ms/step - loss: 0.6463 - accuracy: 0.4935\n"
     ]
    }
   ],
   "source": [
    "results = model.evaluate(test_padded, test_labels, verbose=1)"
   ]
  },
  {
   "cell_type": "markdown",
   "id": "811f3675",
   "metadata": {},
   "source": [
    "### Bidirectional LSTM for Sentiment Analysis\n",
    "After making variations in the activation functions of the dense layers of the LSTM Model, following can be observed\n",
    "- The Accuracy for the LSTM model with Dense Layer activation combinations of Tanh and Sigmoid gave the maximum accuracy of 0.7902\n",
    "- The combination of ReLU and SoftMax gave the lowest accuracy of 0.4935"
   ]
  },
  {
   "cell_type": "markdown",
   "id": "0e8ca43f",
   "metadata": {},
   "source": [
    "We worked with several models to perform Sentiment Analysis of the IMDB Dataset such as:\n",
    "- VADER Lexicon\n",
    "- Naive Bayes\n",
    "- SVM and\n",
    "- Bidirectional LSTM (Deep Learning)\n",
    "The movie reviews had negative and positive sentiments and based on tweaking the model parameters and # of Features used to run the model we observed that the <b>Support Vector Machine<\\b> model with <b>4000<\\b> had the highest accuracy score of 88% in Sentiment Analysis"
   ]
  }
 ],
 "metadata": {
  "kernelspec": {
   "display_name": "Python 3 (ipykernel)",
   "language": "python",
   "name": "python3"
  },
  "language_info": {
   "codemirror_mode": {
    "name": "ipython",
    "version": 3
   },
   "file_extension": ".py",
   "mimetype": "text/x-python",
   "name": "python",
   "nbconvert_exporter": "python",
   "pygments_lexer": "ipython3",
   "version": "3.9.13"
  }
 },
 "nbformat": 4,
 "nbformat_minor": 5
}
